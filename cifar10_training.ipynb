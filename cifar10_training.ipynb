{
 "metadata": {
  "language": "lua",
  "name": "",
  "signature": "sha256:79e2dd642cbb7fdce534d2122ff216e31bda4de09f377cca5527b370a8cc7675"
 },
 "nbformat": 3,
 "nbformat_minor": 0,
 "worksheets": [
  {
   "cells": [
    {
     "cell_type": "code",
     "collapsed": false,
     "input": [
      "require \"cudnn\"\n",
      "require \"cunn\"\n",
      "Plot = require \"itorch.Plot\"\n",
      "utils = require \"cifar10_utils\"\n",
      "data = require(\"cifar10_load\")\n",
      "trainset = data.trainset:normalize()\n",
      "testset = data.testset:normalize()\n",
      "classes = data.classes\n",
      "collectgarbage()"
     ],
     "language": "python",
     "metadata": {},
     "outputs": [],
     "prompt_number": 1
    },
    {
     "cell_type": "code",
     "collapsed": false,
     "input": [
      "model_name = \"fconv\"\n",
      "load_model_name = \"fconv-normalized\"\n",
      "--load_model_name = \"vgg_10cw-5mp-3ls-N-cu\""
     ],
     "language": "python",
     "metadata": {},
     "outputs": [],
     "prompt_number": 2
    },
    {
     "cell_type": "code",
     "collapsed": true,
     "input": [
      "load_trained = true\n",
      "local model\n",
      "if load_trained == false then\n",
      "    model = require(\"models/\" .. load_model_name)\n",
      "else\n",
      "    model = torch.load(\"trained_models/\"..load_model_name)\n",
      "end\n",
      "\n",
      "utils.net = nn.DataParallelTable(1)\n",
      "for gpu_n = 1, cutorch.getDeviceCount() do\n",
      "    cutorch.setDevice(gpu_n)\n",
      "    utils.net:add(model:clone():cuda(), gpu_n)\n",
      "end\n",
      "cutorch.setDevice(1) \n",
      "collectgarbage()\n",
      "\n",
      "utils.criterion = nn.ClassNLLCriterion():cuda()\n",
      "utils.net:cuda()\n",
      "\n",
      "utils.parameters, utils.gradParameters = utils.net:getParameters()"
     ],
     "language": "python",
     "metadata": {},
     "outputs": [
      {
       "metadata": {},
       "output_type": "pyout",
       "prompt_number": 3,
       "text": [
        "warning: could not load nccl, falling back to default communication\t\n"
       ]
      }
     ],
     "prompt_number": 3
    },
    {
     "cell_type": "code",
     "collapsed": false,
     "input": [
      "--[[\n",
      "local n = torch.load(\"trained_models/fconv\")\n",
      "local lst1 = {}\n",
      "local size = 2\n",
      "for i = 1, size do\n",
      "    if n:get(i).weight then\n",
      "      lst1[#lst1 +1] = i \n",
      "    end\n",
      "end\n",
      "local lst2 = {}\n",
      "for i = 1, size do\n",
      "    if utils.net:get(i).weight then\n",
      "      lst2[#lst2 +1] = i \n",
      "    end\n",
      "end\n",
      "\n",
      "for i = 1, math.min(#lst1, #lst2) do\n",
      "   utils.net:get(lst2[i]).weight:copy(n:get(lst1[i]).weight)\n",
      "end\n",
      "    \n",
      "collectgarbage() "
     ],
     "language": "python",
     "metadata": {},
     "outputs": [],
     "prompt_number": 16
    },
    {
     "cell_type": "code",
     "collapsed": false,
     "input": [
      "utils.augment = utils.no_augment"
     ],
     "language": "python",
     "metadata": {},
     "outputs": [],
     "prompt_number": 4
    },
    {
     "cell_type": "code",
     "collapsed": false,
     "input": [
      "log = {}\n",
      "--local train_loss, train_hist, train_accu = utils:evaluate(trainset)\n",
      "--local test_loss, test_hist, test_accu = utils:evaluate(testset)\n",
      "--log.train_losses = {train_loss}\n",
      "--log.train_accu = {train_accu}\n",
      "--log.test_losses = {test_loss}\n",
      "--log.test_accu = {test_accu}\n",
      "log.train_losses = {2.3}\n",
      "log.train_accu = {0.9}\n",
      "log.test_losses = {2.3}\n",
      "log.test_accu = {0.9}\n",
      "log.epoch = {0}"
     ],
     "language": "python",
     "metadata": {},
     "outputs": [],
     "prompt_number": 5
    },
    {
     "cell_type": "code",
     "collapsed": false,
     "input": [
      "utils.opt.optimState.batch_size = 128\n",
      "utils.opt.optimState.learningRate = 1e-3\n",
      "utils.opt.optimState.weightDecay = 1e-3\n",
      "utils.opt.optimState.momentum = 0.9"
     ],
     "language": "python",
     "metadata": {},
     "outputs": [],
     "prompt_number": 8
    },
    {
     "cell_type": "code",
     "collapsed": false,
     "input": [
      "local timer = torch.Timer()\n",
      "n_epoch = 6\n",
      "print_epoch = 2\n",
      "utils.err.any = false\n",
      "\n",
      "local loss_plot = Plot()\n",
      "loss_plot:title(\" 0 - 0% - 0 minutes\")\n",
      "loss_plot:line(log.epoch, log.train_losses, \"red\")\n",
      "loss_plot:line(log.epoch, log.train_accu, \"purple\")\n",
      "loss_plot:line(log.epoch, log.test_losses, \"blue\")\n",
      "loss_plot:line(log.epoch, log.test_accu, \"green\"):draw()\n",
      "\n",
      "for i = 1, n_epoch do\n",
      "    utils:train_epoch()    \n",
      "    if utils.err.any == true then\n",
      "        print(\"stoping because there was an error\")\n",
      "        break\n",
      "    end\n",
      "    if i % print_epoch == 0 then\n",
      "      local train_loss, train_hist, train_accu = utils:evaluate(trainset)\n",
      "      local test_loss, test_hist, test_accu = utils:evaluate(testset)\n",
      "      table.insert(log.train_losses, train_loss)\n",
      "      table.insert(log.test_losses, test_loss)\n",
      "      table.insert(log.train_accu, train_accu)\n",
      "      table.insert(log.test_accu, test_accu)\n",
      "      table.insert(log.epoch, log.epoch[#log.epoch] + print_epoch)\n",
      "      print(\"------------------------------------------------\")\n",
      "      print(\"epoch \" .. log.epoch[#log.epoch] .. \":\")\n",
      "      print(string.format(\" train loss = %.4f  -  train accuracy = %.2f%%\", train_loss, 100 - 100*train_accu))\n",
      "      print(string.format(\" test  loss = %.4f  -  test  accuracy = %.2f%%\", test_loss, 100 - 100*test_accu))\n",
      "      loss_plot:title(string.format(\" %i - %.0f%% - %.0f minutes\", i, i/n_epoch*100, timer:time().real/60))\n",
      "      loss_plot:line(log.epoch, log.train_losses, \"red\")\n",
      "      loss_plot:line(log.epoch, log.train_accu, \"purple\")\n",
      "      loss_plot:line(log.epoch, log.test_losses, \"blue\")\n",
      "      loss_plot:line(log.epoch, log.test_accu, \"green\"):redraw()\n",
      "      utils:ping()\n",
      "    end\n",
      "end\n",
      "collectgarbage()"
     ],
     "language": "python",
     "metadata": {},
     "outputs": [
      {
       "html": [
        "<script type=\"text/javascript\">\n",
        "$(function() {\n",
        "    if (typeof (window._bokeh_onload_callbacks) === \"undefined\"){\n",
        "  window._bokeh_onload_callbacks = [];\n",
        "    }\n",
        "    function load_lib(url, callback){\n",
        "  window._bokeh_onload_callbacks.push(callback);\n",
        "  if (window._bokeh_is_loading){\n",
        "      console.log(\"Bokeh: BokehJS is being loaded, scheduling callback at\", new Date());\n",
        "      return null;\n",
        "  }\n",
        "  console.log(\"Bokeh: BokehJS not loaded, scheduling load and callback at\", new Date());\n",
        "  window._bokeh_is_loading = true;\n",
        "  var s = document.createElement('script');\n",
        "  s.src = url;\n",
        "  s.async = true;\n",
        "  s.onreadystatechange = s.onload = function(){\n",
        "      Bokeh.embed.inject_css(\"http://cdn.pydata.org/bokeh-0.7.0.min.css\");\n",
        "      window._bokeh_onload_callbacks.forEach(function(callback){callback()});\n",
        "  };\n",
        "  s.onerror = function(){\n",
        "      console.warn(\"failed to load library \" + url);\n",
        "  };\n",
        "  document.getElementsByTagName(\"head\")[0].appendChild(s);\n",
        "    }\n",
        "\n",
        "    bokehjs_url = \"http://cdn.pydata.org/bokeh-0.7.0.min.js\"\n",
        "\n",
        "    var elt = document.getElementById(\"720ce3f4-adbd-4759-c74d-6d1c03a579fa\");\n",
        "    if(elt==null) {\n",
        "  console.log(\"Bokeh: ERROR: autoload.js configured with elementid '720ce3f4-adbd-4759-c74d-6d1c03a579fa'\"\n",
        "        + \"but no matching script tag was found. \")\n",
        "  return false;\n",
        "    }\n",
        "\n",
        "    if(typeof(Bokeh) !== \"undefined\") {\n",
        "  console.log(\"Bokeh: BokehJS loaded, going straight to plotting\");\n",
        "  var modelid = \"aa79834e-62fe-4931-c97a-215505fb245f\";\n",
        "  var modeltype = \"Plot\";\n",
        "  var all_models = [{\"id\":\"305b746c-3634-4deb-cd6a-06ee12c7e68c\",\"type\":\"ColumnDataSource\",\"attributes\":{\"data\":{\"y\":[2.3,1.192856978459],\"x\":[0,1]},\"column_names\":[\"y\",\"x\"],\"cont_ranges\":{},\"discrete_ranges\":{},\"selected\":[],\"id\":\"305b746c-3634-4deb-cd6a-06ee12c7e68c\",\"doc\":null,\"tags\":[]}},{\"id\":\"0e95a6a2-8d86-410c-c12b-7da8a7372f42\",\"type\":\"Line\",\"attributes\":{\"fill_alpha\":{\"units\":\"data\",\"value\":0.2},\"line_alpha\":{\"units\":\"data\",\"value\":1},\"doc\":null,\"size\":{\"units\":\"screen\",\"value\":10},\"fill_color\":{\"value\":\"red\"},\"line_color\":{\"value\":\"red\"},\"x\":{\"units\":\"data\",\"field\":\"x\"},\"id\":\"0e95a6a2-8d86-410c-c12b-7da8a7372f42\",\"y\":{\"units\":\"data\",\"field\":\"y\"},\"tags\":[]}},{\"id\":\"646beeb2-f4a7-41fc-c111-cf6af0eff6d8\",\"type\":\"Line\",\"attributes\":{\"fill_alpha\":{\"units\":\"data\",\"value\":0.2},\"line_alpha\":{\"units\":\"data\",\"value\":1},\"doc\":null,\"size\":{\"units\":\"screen\",\"value\":10},\"fill_color\":{\"value\":\"red\"},\"line_color\":{\"value\":\"red\"},\"x\":{\"units\":\"data\",\"field\":\"x\"},\"id\":\"646beeb2-f4a7-41fc-c111-cf6af0eff6d8\",\"y\":{\"units\":\"data\",\"field\":\"y\"},\"tags\":[]}},{\"id\":\"4f4d10f5-e388-4b9b-cbf9-c9449d93716f\",\"type\":\"GlyphRenderer\",\"attributes\":{\"name\":null,\"nonselection_glyph\":{\"type\":\"Line\",\"id\":\"646beeb2-f4a7-41fc-c111-cf6af0eff6d8\"},\"doc\":null,\"server_data_source\":null,\"data_source\":{\"type\":\"ColumnDataSource\",\"id\":\"305b746c-3634-4deb-cd6a-06ee12c7e68c\"},\"glyph\":{\"type\":\"Line\",\"id\":\"0e95a6a2-8d86-410c-c12b-7da8a7372f42\"},\"selection_glyph\":null,\"id\":\"4f4d10f5-e388-4b9b-cbf9-c9449d93716f\",\"tags\":[]}},{\"id\":\"640a6289-e4fe-4237-c22a-04d575afa26a\",\"type\":\"ColumnDataSource\",\"attributes\":{\"data\":{\"y\":[0.9,0.436175],\"x\":[0,1]},\"column_names\":[\"y\",\"x\"],\"cont_ranges\":{},\"discrete_ranges\":{},\"selected\":[],\"id\":\"640a6289-e4fe-4237-c22a-04d575afa26a\",\"doc\":null,\"tags\":[]}},{\"id\":\"23a6007e-c94b-4abe-ca14-4511e4e7105c\",\"type\":\"Line\",\"attributes\":{\"fill_alpha\":{\"units\":\"data\",\"value\":0.2},\"line_alpha\":{\"units\":\"data\",\"value\":1},\"doc\":null,\"size\":{\"units\":\"screen\",\"value\":10},\"fill_color\":{\"value\":\"purple\"},\"line_color\":{\"value\":\"purple\"},\"x\":{\"units\":\"data\",\"field\":\"x\"},\"id\":\"23a6007e-c94b-4abe-ca14-4511e4e7105c\",\"y\":{\"units\":\"data\",\"field\":\"y\"},\"tags\":[]}},{\"id\":\"6df259df-00d6-4c1d-cc95-9a45b54cc3c1\",\"type\":\"Line\",\"attributes\":{\"fill_alpha\":{\"units\":\"data\",\"value\":0.2},\"line_alpha\":{\"units\":\"data\",\"value\":1},\"doc\":null,\"size\":{\"units\":\"screen\",\"value\":10},\"fill_color\":{\"value\":\"purple\"},\"line_color\":{\"value\":\"purple\"},\"x\":{\"units\":\"data\",\"field\":\"x\"},\"id\":\"6df259df-00d6-4c1d-cc95-9a45b54cc3c1\",\"y\":{\"units\":\"data\",\"field\":\"y\"},\"tags\":[]}},{\"id\":\"859ec279-368f-4bd5-cbfe-edc6559df4c5\",\"type\":\"GlyphRenderer\",\"attributes\":{\"name\":null,\"nonselection_glyph\":{\"type\":\"Line\",\"id\":\"6df259df-00d6-4c1d-cc95-9a45b54cc3c1\"},\"doc\":null,\"server_data_source\":null,\"data_source\":{\"type\":\"ColumnDataSource\",\"id\":\"640a6289-e4fe-4237-c22a-04d575afa26a\"},\"glyph\":{\"type\":\"Line\",\"id\":\"23a6007e-c94b-4abe-ca14-4511e4e7105c\"},\"selection_glyph\":null,\"id\":\"859ec279-368f-4bd5-cbfe-edc6559df4c5\",\"tags\":[]}},{\"id\":\"3efc495f-e3c2-448d-c46e-43fafc3c538e\",\"type\":\"ColumnDataSource\",\"attributes\":{\"data\":{\"y\":[2.3,1.4143227487803],\"x\":[0,1]},\"column_names\":[\"y\",\"x\"],\"cont_ranges\":{},\"discrete_ranges\":{},\"selected\":[],\"id\":\"3efc495f-e3c2-448d-c46e-43fafc3c538e\",\"doc\":null,\"tags\":[]}},{\"id\":\"a2845367-8bc9-4a0d-cab4-c2a59b2b0972\",\"type\":\"Line\",\"attributes\":{\"fill_alpha\":{\"units\":\"data\",\"value\":0.2},\"line_alpha\":{\"units\":\"data\",\"value\":1},\"doc\":null,\"size\":{\"units\":\"screen\",\"value\":10},\"fill_color\":{\"value\":\"blue\"},\"line_color\":{\"value\":\"blue\"},\"x\":{\"units\":\"data\",\"field\":\"x\"},\"id\":\"a2845367-8bc9-4a0d-cab4-c2a59b2b0972\",\"y\":{\"units\":\"data\",\"field\":\"y\"},\"tags\":[]}},{\"id\":\"a04ed1b4-3c62-4b65-cbb4-c3d180329b66\",\"type\":\"Line\",\"attributes\":{\"fill_alpha\":{\"units\":\"data\",\"value\":0.2},\"line_alpha\":{\"units\":\"data\",\"value\":1},\"doc\":null,\"size\":{\"units\":\"screen\",\"value\":10},\"fill_color\":{\"value\":\"blue\"},\"line_color\":{\"value\":\"blue\"},\"x\":{\"units\":\"data\",\"field\":\"x\"},\"id\":\"a04ed1b4-3c62-4b65-cbb4-c3d180329b66\",\"y\":{\"units\":\"data\",\"field\":\"y\"},\"tags\":[]}},{\"id\":\"77eec186-0054-431c-c372-a14b085461d5\",\"type\":\"GlyphRenderer\",\"attributes\":{\"name\":null,\"nonselection_glyph\":{\"type\":\"Line\",\"id\":\"a04ed1b4-3c62-4b65-cbb4-c3d180329b66\"},\"doc\":null,\"server_data_source\":null,\"data_source\":{\"type\":\"ColumnDataSource\",\"id\":\"3efc495f-e3c2-448d-c46e-43fafc3c538e\"},\"glyph\":{\"type\":\"Line\",\"id\":\"a2845367-8bc9-4a0d-cab4-c2a59b2b0972\"},\"selection_glyph\":null,\"id\":\"77eec186-0054-431c-c372-a14b085461d5\",\"tags\":[]}},{\"id\":\"5a5b9abf-c699-4165-c113-4182642f97d5\",\"type\":\"ColumnDataSource\",\"attributes\":{\"data\":{\"y\":[0.9,0.486],\"x\":[0,1]},\"column_names\":[\"y\",\"x\"],\"cont_ranges\":{},\"discrete_ranges\":{},\"selected\":[],\"id\":\"5a5b9abf-c699-4165-c113-4182642f97d5\",\"doc\":null,\"tags\":[]}},{\"id\":\"595acf0b-a9ae-4013-c05d-28642b4958df\",\"type\":\"Line\",\"attributes\":{\"fill_alpha\":{\"units\":\"data\",\"value\":0.2},\"line_alpha\":{\"units\":\"data\",\"value\":1},\"doc\":null,\"size\":{\"units\":\"screen\",\"value\":10},\"fill_color\":{\"value\":\"green\"},\"line_color\":{\"value\":\"green\"},\"x\":{\"units\":\"data\",\"field\":\"x\"},\"id\":\"595acf0b-a9ae-4013-c05d-28642b4958df\",\"y\":{\"units\":\"data\",\"field\":\"y\"},\"tags\":[]}},{\"id\":\"e9c556fc-44be-4b94-cb22-6242330a5b29\",\"type\":\"Line\",\"attributes\":{\"fill_alpha\":{\"units\":\"data\",\"value\":0.2},\"line_alpha\":{\"units\":\"data\",\"value\":1},\"doc\":null,\"size\":{\"units\":\"screen\",\"value\":10},\"fill_color\":{\"value\":\"green\"},\"line_color\":{\"value\":\"green\"},\"x\":{\"units\":\"data\",\"field\":\"x\"},\"id\":\"e9c556fc-44be-4b94-cb22-6242330a5b29\",\"y\":{\"units\":\"data\",\"field\":\"y\"},\"tags\":[]}},{\"id\":\"63cdae29-d8e5-4d25-cd6f-c002c1bdd632\",\"type\":\"GlyphRenderer\",\"attributes\":{\"name\":null,\"nonselection_glyph\":{\"type\":\"Line\",\"id\":\"e9c556fc-44be-4b94-cb22-6242330a5b29\"},\"doc\":null,\"server_data_source\":null,\"data_source\":{\"type\":\"ColumnDataSource\",\"id\":\"5a5b9abf-c699-4165-c113-4182642f97d5\"},\"glyph\":{\"type\":\"Line\",\"id\":\"595acf0b-a9ae-4013-c05d-28642b4958df\"},\"selection_glyph\":null,\"id\":\"63cdae29-d8e5-4d25-cd6f-c002c1bdd632\",\"tags\":[]}},{\"id\":\"879eedd4-3204-4e47-ce4f-e4eee7874098\",\"type\":\"DataRange1d\",\"attributes\":{\"sources\":[{\"columns\":[\"x\"],\"source\":{\"type\":\"ColumnDataSource\",\"id\":\"305b746c-3634-4deb-cd6a-06ee12c7e68c\"}},{\"columns\":[\"x\"],\"source\":{\"type\":\"ColumnDataSource\",\"id\":\"640a6289-e4fe-4237-c22a-04d575afa26a\"}},{\"columns\":[\"x\"],\"source\":{\"type\":\"ColumnDataSource\",\"id\":\"3efc495f-e3c2-448d-c46e-43fafc3c538e\"}},{\"columns\":[\"x\"],\"source\":{\"type\":\"ColumnDataSource\",\"id\":\"5a5b9abf-c699-4165-c113-4182642f97d5\"}}],\"id\":\"879eedd4-3204-4e47-ce4f-e4eee7874098\",\"tags\":[],\"doc\":null}},{\"id\":\"d912b050-9b49-47dd-c708-a95a55d6bb2b\",\"type\":\"DataRange1d\",\"attributes\":{\"sources\":[{\"columns\":[\"y\"],\"source\":{\"type\":\"ColumnDataSource\",\"id\":\"305b746c-3634-4deb-cd6a-06ee12c7e68c\"}},{\"columns\":[\"y\"],\"source\":{\"type\":\"ColumnDataSource\",\"id\":\"640a6289-e4fe-4237-c22a-04d575afa26a\"}},{\"columns\":[\"y\"],\"source\":{\"type\":\"ColumnDataSource\",\"id\":\"3efc495f-e3c2-448d-c46e-43fafc3c538e\"}},{\"columns\":[\"y\"],\"source\":{\"type\":\"ColumnDataSource\",\"id\":\"5a5b9abf-c699-4165-c113-4182642f97d5\"}}],\"id\":\"d912b050-9b49-47dd-c708-a95a55d6bb2b\",\"tags\":[],\"doc\":null}},{\"id\":\"83cf6174-83d8-4560-c54d-eeb4c0590d89\",\"type\":\"ToolEvents\",\"attributes\":{\"tags\":[],\"id\":\"83cf6174-83d8-4560-c54d-eeb4c0590d89\",\"geometries\":[],\"doc\":null}},{\"id\":\"c3e338b3-6705-46a9-c67d-b37158e63e27\",\"type\":\"BasicTickFormatter\",\"attributes\":{\"id\":\"c3e338b3-6705-46a9-c67d-b37158e63e27\",\"tags\":[],\"doc\":null}},{\"id\":\"84082131-4e92-4dae-cd99-46d07a0861bd\",\"type\":\"BasicTicker\",\"attributes\":{\"num_minor_ticks\":5,\"id\":\"84082131-4e92-4dae-cd99-46d07a0861bd\",\"tags\":[],\"doc\":null}},{\"id\":\"3b2ab9be-6086-4d96-cd0b-29e168a85086\",\"type\":\"LinearAxis\",\"attributes\":{\"formatter\":{\"type\":\"BasicTickFormatter\",\"id\":\"c3e338b3-6705-46a9-c67d-b37158e63e27\"},\"ticker\":{\"type\":\"BasicTicker\",\"id\":\"84082131-4e92-4dae-cd99-46d07a0861bd\"},\"plot\":{\"id\":\"aa79834e-62fe-4931-c97a-215505fb245f\",\"type\":\"Plot\",\"subtype\":\"Figure\"},\"axis_label\":null,\"id\":\"3b2ab9be-6086-4d96-cd0b-29e168a85086\",\"doc\":null,\"tags\":[]}},{\"id\":\"d5b747fd-daeb-4556-c591-a030e515e25b\",\"type\":\"Grid\",\"attributes\":{\"dimension\":0,\"plot\":{\"id\":\"aa79834e-62fe-4931-c97a-215505fb245f\",\"type\":\"Plot\",\"subtype\":\"Figure\"},\"ticker\":{\"type\":\"BasicTicker\",\"id\":\"84082131-4e92-4dae-cd99-46d07a0861bd\"},\"id\":\"d5b747fd-daeb-4556-c591-a030e515e25b\",\"doc\":null,\"tags\":[]}},{\"id\":\"69164ef6-6c17-4715-c721-37c02b62bef0\",\"type\":\"BasicTickFormatter\",\"attributes\":{\"id\":\"69164ef6-6c17-4715-c721-37c02b62bef0\",\"tags\":[],\"doc\":null}},{\"id\":\"5ca795bb-e696-4f46-cf25-a9f5564f16c4\",\"type\":\"BasicTicker\",\"attributes\":{\"num_minor_ticks\":5,\"id\":\"5ca795bb-e696-4f46-cf25-a9f5564f16c4\",\"tags\":[],\"doc\":null}},{\"id\":\"dead1311-a44a-466b-c6df-2e448c3ddfb8\",\"type\":\"LinearAxis\",\"attributes\":{\"formatter\":{\"type\":\"BasicTickFormatter\",\"id\":\"69164ef6-6c17-4715-c721-37c02b62bef0\"},\"ticker\":{\"type\":\"BasicTicker\",\"id\":\"5ca795bb-e696-4f46-cf25-a9f5564f16c4\"},\"plot\":{\"id\":\"aa79834e-62fe-4931-c97a-215505fb245f\",\"type\":\"Plot\",\"subtype\":\"Figure\"},\"axis_label\":null,\"id\":\"dead1311-a44a-466b-c6df-2e448c3ddfb8\",\"doc\":null,\"tags\":[]}},{\"id\":\"68f2fcf8-32da-40e7-c0d0-7a2a27313279\",\"type\":\"Grid\",\"attributes\":{\"dimension\":1,\"plot\":{\"id\":\"aa79834e-62fe-4931-c97a-215505fb245f\",\"type\":\"Plot\",\"subtype\":\"Figure\"},\"ticker\":{\"type\":\"BasicTicker\",\"id\":\"5ca795bb-e696-4f46-cf25-a9f5564f16c4\"},\"id\":\"68f2fcf8-32da-40e7-c0d0-7a2a27313279\",\"doc\":null,\"tags\":[]}},{\"id\":\"5a378944-7b3c-4520-c586-07b43985377b\",\"type\":\"PanTool\",\"attributes\":{\"plot\":{\"id\":\"aa79834e-62fe-4931-c97a-215505fb245f\",\"type\":\"Plot\",\"subtype\":\"Figure\"},\"dimensions\":[\"width\",\"height\"],\"id\":\"5a378944-7b3c-4520-c586-07b43985377b\",\"doc\":null,\"tags\":[]}},{\"id\":\"374867bb-f5ed-4c03-cc94-c879f6a8e7fd\",\"type\":\"WheelZoomTool\",\"attributes\":{\"plot\":{\"id\":\"aa79834e-62fe-4931-c97a-215505fb245f\",\"type\":\"Plot\",\"subtype\":\"Figure\"},\"dimensions\":[\"width\",\"height\"],\"id\":\"374867bb-f5ed-4c03-cc94-c879f6a8e7fd\",\"doc\":null,\"tags\":[]}},{\"id\":\"e25517cd-3e4d-4ec9-ce13-b140731388c2\",\"type\":\"BoxZoomTool\",\"attributes\":{\"plot\":{\"id\":\"aa79834e-62fe-4931-c97a-215505fb245f\",\"type\":\"Plot\",\"subtype\":\"Figure\"},\"id\":\"e25517cd-3e4d-4ec9-ce13-b140731388c2\",\"tags\":[],\"doc\":null}},{\"id\":\"621fe168-14ef-4273-c28b-8b87a11b42a0\",\"type\":\"PreviewSaveTool\",\"attributes\":{\"plot\":{\"id\":\"aa79834e-62fe-4931-c97a-215505fb245f\",\"type\":\"Plot\",\"subtype\":\"Figure\"},\"id\":\"621fe168-14ef-4273-c28b-8b87a11b42a0\",\"tags\":[],\"doc\":null}},{\"id\":\"38328263-8a7c-46bb-c6f9-c44451eaef01\",\"type\":\"ResizeTool\",\"attributes\":{\"plot\":{\"id\":\"aa79834e-62fe-4931-c97a-215505fb245f\",\"type\":\"Plot\",\"subtype\":\"Figure\"},\"id\":\"38328263-8a7c-46bb-c6f9-c44451eaef01\",\"tags\":[],\"doc\":null}},{\"id\":\"77dff367-a034-4c70-cc05-f6348dfc3182\",\"type\":\"ResetTool\",\"attributes\":{\"plot\":{\"id\":\"aa79834e-62fe-4931-c97a-215505fb245f\",\"type\":\"Plot\",\"subtype\":\"Figure\"},\"id\":\"77dff367-a034-4c70-cc05-f6348dfc3182\",\"tags\":[],\"doc\":null}},{\"id\":\"aa79834e-62fe-4931-c97a-215505fb245f\",\"type\":\"Plot\",\"attributes\":{\"x_range\":{\"type\":\"DataRange1d\",\"id\":\"879eedd4-3204-4e47-ce4f-e4eee7874098\"},\"tool_events\":{\"type\":\"ToolEvents\",\"id\":\"83cf6174-83d8-4560-c54d-eeb4c0590d89\"},\"below\":[{\"type\":\"LinearAxis\",\"id\":\"3b2ab9be-6086-4d96-cd0b-29e168a85086\"}],\"renderers\":[{\"type\":\"GlyphRenderer\",\"id\":\"4f4d10f5-e388-4b9b-cbf9-c9449d93716f\"},{\"type\":\"GlyphRenderer\",\"id\":\"859ec279-368f-4bd5-cbfe-edc6559df4c5\"},{\"type\":\"GlyphRenderer\",\"id\":\"77eec186-0054-431c-c372-a14b085461d5\"},{\"type\":\"GlyphRenderer\",\"id\":\"63cdae29-d8e5-4d25-cd6f-c002c1bdd632\"},{\"type\":\"LinearAxis\",\"id\":\"3b2ab9be-6086-4d96-cd0b-29e168a85086\"},{\"type\":\"Grid\",\"id\":\"d5b747fd-daeb-4556-c591-a030e515e25b\"},{\"type\":\"LinearAxis\",\"id\":\"dead1311-a44a-466b-c6df-2e448c3ddfb8\"},{\"type\":\"Grid\",\"id\":\"68f2fcf8-32da-40e7-c0d0-7a2a27313279\"}],\"above\":[],\"tools\":[{\"type\":\"PanTool\",\"id\":\"5a378944-7b3c-4520-c586-07b43985377b\"},{\"type\":\"WheelZoomTool\",\"id\":\"374867bb-f5ed-4c03-cc94-c879f6a8e7fd\"},{\"type\":\"BoxZoomTool\",\"id\":\"e25517cd-3e4d-4ec9-ce13-b140731388c2\"},{\"type\":\"PreviewSaveTool\",\"id\":\"621fe168-14ef-4273-c28b-8b87a11b42a0\"},{\"type\":\"ResizeTool\",\"id\":\"38328263-8a7c-46bb-c6f9-c44451eaef01\"},{\"type\":\"ResetTool\",\"id\":\"77dff367-a034-4c70-cc05-f6348dfc3182\"}],\"doc\":null,\"right\":[],\"title\":\" 0 - 0% - 0 minutes\",\"extra_x_ranges\":{},\"left\":[{\"type\":\"LinearAxis\",\"id\":\"dead1311-a44a-466b-c6df-2e448c3ddfb8\"}],\"y_range\":{\"type\":\"DataRange1d\",\"id\":\"d912b050-9b49-47dd-c708-a95a55d6bb2b\"},\"id\":\"aa79834e-62fe-4931-c97a-215505fb245f\",\"extra_y_ranges\":{},\"tags\":[]}}];\n",
        "  Bokeh.load_models(all_models);\n",
        "  var model = Bokeh.Collections(modeltype).get(modelid);\n",
        "  $(\"#720ce3f4-adbd-4759-c74d-6d1c03a579fa\").html(''); // clear any previous plot in window_id\n",
        "  var view = new model.default_view({model: model, el: \"#720ce3f4-adbd-4759-c74d-6d1c03a579fa\"});\n",
        "    } else {\n",
        "  load_lib(bokehjs_url, function() {\n",
        "      console.log(\"Bokeh: BokehJS plotting callback run at\", new Date())\n",
        "      var modelid = \"aa79834e-62fe-4931-c97a-215505fb245f\";\n",
        "      var modeltype = \"Plot\";\n",
        "      var all_models = [{\"id\":\"305b746c-3634-4deb-cd6a-06ee12c7e68c\",\"type\":\"ColumnDataSource\",\"attributes\":{\"data\":{\"y\":[2.3,1.192856978459],\"x\":[0,1]},\"column_names\":[\"y\",\"x\"],\"cont_ranges\":{},\"discrete_ranges\":{},\"selected\":[],\"id\":\"305b746c-3634-4deb-cd6a-06ee12c7e68c\",\"doc\":null,\"tags\":[]}},{\"id\":\"0e95a6a2-8d86-410c-c12b-7da8a7372f42\",\"type\":\"Line\",\"attributes\":{\"fill_alpha\":{\"units\":\"data\",\"value\":0.2},\"line_alpha\":{\"units\":\"data\",\"value\":1},\"doc\":null,\"size\":{\"units\":\"screen\",\"value\":10},\"fill_color\":{\"value\":\"red\"},\"line_color\":{\"value\":\"red\"},\"x\":{\"units\":\"data\",\"field\":\"x\"},\"id\":\"0e95a6a2-8d86-410c-c12b-7da8a7372f42\",\"y\":{\"units\":\"data\",\"field\":\"y\"},\"tags\":[]}},{\"id\":\"646beeb2-f4a7-41fc-c111-cf6af0eff6d8\",\"type\":\"Line\",\"attributes\":{\"fill_alpha\":{\"units\":\"data\",\"value\":0.2},\"line_alpha\":{\"units\":\"data\",\"value\":1},\"doc\":null,\"size\":{\"units\":\"screen\",\"value\":10},\"fill_color\":{\"value\":\"red\"},\"line_color\":{\"value\":\"red\"},\"x\":{\"units\":\"data\",\"field\":\"x\"},\"id\":\"646beeb2-f4a7-41fc-c111-cf6af0eff6d8\",\"y\":{\"units\":\"data\",\"field\":\"y\"},\"tags\":[]}},{\"id\":\"4f4d10f5-e388-4b9b-cbf9-c9449d93716f\",\"type\":\"GlyphRenderer\",\"attributes\":{\"name\":null,\"nonselection_glyph\":{\"type\":\"Line\",\"id\":\"646beeb2-f4a7-41fc-c111-cf6af0eff6d8\"},\"doc\":null,\"server_data_source\":null,\"data_source\":{\"type\":\"ColumnDataSource\",\"id\":\"305b746c-3634-4deb-cd6a-06ee12c7e68c\"},\"glyph\":{\"type\":\"Line\",\"id\":\"0e95a6a2-8d86-410c-c12b-7da8a7372f42\"},\"selection_glyph\":null,\"id\":\"4f4d10f5-e388-4b9b-cbf9-c9449d93716f\",\"tags\":[]}},{\"id\":\"640a6289-e4fe-4237-c22a-04d575afa26a\",\"type\":\"ColumnDataSource\",\"attributes\":{\"data\":{\"y\":[0.9,0.436175],\"x\":[0,1]},\"column_names\":[\"y\",\"x\"],\"cont_ranges\":{},\"discrete_ranges\":{},\"selected\":[],\"id\":\"640a6289-e4fe-4237-c22a-04d575afa26a\",\"doc\":null,\"tags\":[]}},{\"id\":\"23a6007e-c94b-4abe-ca14-4511e4e7105c\",\"type\":\"Line\",\"attributes\":{\"fill_alpha\":{\"units\":\"data\",\"value\":0.2},\"line_alpha\":{\"units\":\"data\",\"value\":1},\"doc\":null,\"size\":{\"units\":\"screen\",\"value\":10},\"fill_color\":{\"value\":\"purple\"},\"line_color\":{\"value\":\"purple\"},\"x\":{\"units\":\"data\",\"field\":\"x\"},\"id\":\"23a6007e-c94b-4abe-ca14-4511e4e7105c\",\"y\":{\"units\":\"data\",\"field\":\"y\"},\"tags\":[]}},{\"id\":\"6df259df-00d6-4c1d-cc95-9a45b54cc3c1\",\"type\":\"Line\",\"attributes\":{\"fill_alpha\":{\"units\":\"data\",\"value\":0.2},\"line_alpha\":{\"units\":\"data\",\"value\":1},\"doc\":null,\"size\":{\"units\":\"screen\",\"value\":10},\"fill_color\":{\"value\":\"purple\"},\"line_color\":{\"value\":\"purple\"},\"x\":{\"units\":\"data\",\"field\":\"x\"},\"id\":\"6df259df-00d6-4c1d-cc95-9a45b54cc3c1\",\"y\":{\"units\":\"data\",\"field\":\"y\"},\"tags\":[]}},{\"id\":\"859ec279-368f-4bd5-cbfe-edc6559df4c5\",\"type\":\"GlyphRenderer\",\"attributes\":{\"name\":null,\"nonselection_glyph\":{\"type\":\"Line\",\"id\":\"6df259df-00d6-4c1d-cc95-9a45b54cc3c1\"},\"doc\":null,\"server_data_source\":null,\"data_source\":{\"type\":\"ColumnDataSource\",\"id\":\"640a6289-e4fe-4237-c22a-04d575afa26a\"},\"glyph\":{\"type\":\"Line\",\"id\":\"23a6007e-c94b-4abe-ca14-4511e4e7105c\"},\"selection_glyph\":null,\"id\":\"859ec279-368f-4bd5-cbfe-edc6559df4c5\",\"tags\":[]}},{\"id\":\"3efc495f-e3c2-448d-c46e-43fafc3c538e\",\"type\":\"ColumnDataSource\",\"attributes\":{\"data\":{\"y\":[2.3,1.4143227487803],\"x\":[0,1]},\"column_names\":[\"y\",\"x\"],\"cont_ranges\":{},\"discrete_ranges\":{},\"selected\":[],\"id\":\"3efc495f-e3c2-448d-c46e-43fafc3c538e\",\"doc\":null,\"tags\":[]}},{\"id\":\"a2845367-8bc9-4a0d-cab4-c2a59b2b0972\",\"type\":\"Line\",\"attributes\":{\"fill_alpha\":{\"units\":\"data\",\"value\":0.2},\"line_alpha\":{\"units\":\"data\",\"value\":1},\"doc\":null,\"size\":{\"units\":\"screen\",\"value\":10},\"fill_color\":{\"value\":\"blue\"},\"line_color\":{\"value\":\"blue\"},\"x\":{\"units\":\"data\",\"field\":\"x\"},\"id\":\"a2845367-8bc9-4a0d-cab4-c2a59b2b0972\",\"y\":{\"units\":\"data\",\"field\":\"y\"},\"tags\":[]}},{\"id\":\"a04ed1b4-3c62-4b65-cbb4-c3d180329b66\",\"type\":\"Line\",\"attributes\":{\"fill_alpha\":{\"units\":\"data\",\"value\":0.2},\"line_alpha\":{\"units\":\"data\",\"value\":1},\"doc\":null,\"size\":{\"units\":\"screen\",\"value\":10},\"fill_color\":{\"value\":\"blue\"},\"line_color\":{\"value\":\"blue\"},\"x\":{\"units\":\"data\",\"field\":\"x\"},\"id\":\"a04ed1b4-3c62-4b65-cbb4-c3d180329b66\",\"y\":{\"units\":\"data\",\"field\":\"y\"},\"tags\":[]}},{\"id\":\"77eec186-0054-431c-c372-a14b085461d5\",\"type\":\"GlyphRenderer\",\"attributes\":{\"name\":null,\"nonselection_glyph\":{\"type\":\"Line\",\"id\":\"a04ed1b4-3c62-4b65-cbb4-c3d180329b66\"},\"doc\":null,\"server_data_source\":null,\"data_source\":{\"type\":\"ColumnDataSource\",\"id\":\"3efc495f-e3c2-448d-c46e-43fafc3c538e\"},\"glyph\":{\"type\":\"Line\",\"id\":\"a2845367-8bc9-4a0d-cab4-c2a59b2b0972\"},\"selection_glyph\":null,\"id\":\"77eec186-0054-431c-c372-a14b085461d5\",\"tags\":[]}},{\"id\":\"5a5b9abf-c699-4165-c113-4182642f97d5\",\"type\":\"ColumnDataSource\",\"attributes\":{\"data\":{\"y\":[0.9,0.486],\"x\":[0,1]},\"column_names\":[\"y\",\"x\"],\"cont_ranges\":{},\"discrete_ranges\":{},\"selected\":[],\"id\":\"5a5b9abf-c699-4165-c113-4182642f97d5\",\"doc\":null,\"tags\":[]}},{\"id\":\"595acf0b-a9ae-4013-c05d-28642b4958df\",\"type\":\"Line\",\"attributes\":{\"fill_alpha\":{\"units\":\"data\",\"value\":0.2},\"line_alpha\":{\"units\":\"data\",\"value\":1},\"doc\":null,\"size\":{\"units\":\"screen\",\"value\":10},\"fill_color\":{\"value\":\"green\"},\"line_color\":{\"value\":\"green\"},\"x\":{\"units\":\"data\",\"field\":\"x\"},\"id\":\"595acf0b-a9ae-4013-c05d-28642b4958df\",\"y\":{\"units\":\"data\",\"field\":\"y\"},\"tags\":[]}},{\"id\":\"e9c556fc-44be-4b94-cb22-6242330a5b29\",\"type\":\"Line\",\"attributes\":{\"fill_alpha\":{\"units\":\"data\",\"value\":0.2},\"line_alpha\":{\"units\":\"data\",\"value\":1},\"doc\":null,\"size\":{\"units\":\"screen\",\"value\":10},\"fill_color\":{\"value\":\"green\"},\"line_color\":{\"value\":\"green\"},\"x\":{\"units\":\"data\",\"field\":\"x\"},\"id\":\"e9c556fc-44be-4b94-cb22-6242330a5b29\",\"y\":{\"units\":\"data\",\"field\":\"y\"},\"tags\":[]}},{\"id\":\"63cdae29-d8e5-4d25-cd6f-c002c1bdd632\",\"type\":\"GlyphRenderer\",\"attributes\":{\"name\":null,\"nonselection_glyph\":{\"type\":\"Line\",\"id\":\"e9c556fc-44be-4b94-cb22-6242330a5b29\"},\"doc\":null,\"server_data_source\":null,\"data_source\":{\"type\":\"ColumnDataSource\",\"id\":\"5a5b9abf-c699-4165-c113-4182642f97d5\"},\"glyph\":{\"type\":\"Line\",\"id\":\"595acf0b-a9ae-4013-c05d-28642b4958df\"},\"selection_glyph\":null,\"id\":\"63cdae29-d8e5-4d25-cd6f-c002c1bdd632\",\"tags\":[]}},{\"id\":\"879eedd4-3204-4e47-ce4f-e4eee7874098\",\"type\":\"DataRange1d\",\"attributes\":{\"sources\":[{\"columns\":[\"x\"],\"source\":{\"type\":\"ColumnDataSource\",\"id\":\"305b746c-3634-4deb-cd6a-06ee12c7e68c\"}},{\"columns\":[\"x\"],\"source\":{\"type\":\"ColumnDataSource\",\"id\":\"640a6289-e4fe-4237-c22a-04d575afa26a\"}},{\"columns\":[\"x\"],\"source\":{\"type\":\"ColumnDataSource\",\"id\":\"3efc495f-e3c2-448d-c46e-43fafc3c538e\"}},{\"columns\":[\"x\"],\"source\":{\"type\":\"ColumnDataSource\",\"id\":\"5a5b9abf-c699-4165-c113-4182642f97d5\"}}],\"id\":\"879eedd4-3204-4e47-ce4f-e4eee7874098\",\"tags\":[],\"doc\":null}},{\"id\":\"d912b050-9b49-47dd-c708-a95a55d6bb2b\",\"type\":\"DataRange1d\",\"attributes\":{\"sources\":[{\"columns\":[\"y\"],\"source\":{\"type\":\"ColumnDataSource\",\"id\":\"305b746c-3634-4deb-cd6a-06ee12c7e68c\"}},{\"columns\":[\"y\"],\"source\":{\"type\":\"ColumnDataSource\",\"id\":\"640a6289-e4fe-4237-c22a-04d575afa26a\"}},{\"columns\":[\"y\"],\"source\":{\"type\":\"ColumnDataSource\",\"id\":\"3efc495f-e3c2-448d-c46e-43fafc3c538e\"}},{\"columns\":[\"y\"],\"source\":{\"type\":\"ColumnDataSource\",\"id\":\"5a5b9abf-c699-4165-c113-4182642f97d5\"}}],\"id\":\"d912b050-9b49-47dd-c708-a95a55d6bb2b\",\"tags\":[],\"doc\":null}},{\"id\":\"83cf6174-83d8-4560-c54d-eeb4c0590d89\",\"type\":\"ToolEvents\",\"attributes\":{\"tags\":[],\"id\":\"83cf6174-83d8-4560-c54d-eeb4c0590d89\",\"geometries\":[],\"doc\":null}},{\"id\":\"c3e338b3-6705-46a9-c67d-b37158e63e27\",\"type\":\"BasicTickFormatter\",\"attributes\":{\"id\":\"c3e338b3-6705-46a9-c67d-b37158e63e27\",\"tags\":[],\"doc\":null}},{\"id\":\"84082131-4e92-4dae-cd99-46d07a0861bd\",\"type\":\"BasicTicker\",\"attributes\":{\"num_minor_ticks\":5,\"id\":\"84082131-4e92-4dae-cd99-46d07a0861bd\",\"tags\":[],\"doc\":null}},{\"id\":\"3b2ab9be-6086-4d96-cd0b-29e168a85086\",\"type\":\"LinearAxis\",\"attributes\":{\"formatter\":{\"type\":\"BasicTickFormatter\",\"id\":\"c3e338b3-6705-46a9-c67d-b37158e63e27\"},\"ticker\":{\"type\":\"BasicTicker\",\"id\":\"84082131-4e92-4dae-cd99-46d07a0861bd\"},\"plot\":{\"id\":\"aa79834e-62fe-4931-c97a-215505fb245f\",\"type\":\"Plot\",\"subtype\":\"Figure\"},\"axis_label\":null,\"id\":\"3b2ab9be-6086-4d96-cd0b-29e168a85086\",\"doc\":null,\"tags\":[]}},{\"id\":\"d5b747fd-daeb-4556-c591-a030e515e25b\",\"type\":\"Grid\",\"attributes\":{\"dimension\":0,\"plot\":{\"id\":\"aa79834e-62fe-4931-c97a-215505fb245f\",\"type\":\"Plot\",\"subtype\":\"Figure\"},\"ticker\":{\"type\":\"BasicTicker\",\"id\":\"84082131-4e92-4dae-cd99-46d07a0861bd\"},\"id\":\"d5b747fd-daeb-4556-c591-a030e515e25b\",\"doc\":null,\"tags\":[]}},{\"id\":\"69164ef6-6c17-4715-c721-37c02b62bef0\",\"type\":\"BasicTickFormatter\",\"attributes\":{\"id\":\"69164ef6-6c17-4715-c721-37c02b62bef0\",\"tags\":[],\"doc\":null}},{\"id\":\"5ca795bb-e696-4f46-cf25-a9f5564f16c4\",\"type\":\"BasicTicker\",\"attributes\":{\"num_minor_ticks\":5,\"id\":\"5ca795bb-e696-4f46-cf25-a9f5564f16c4\",\"tags\":[],\"doc\":null}},{\"id\":\"dead1311-a44a-466b-c6df-2e448c3ddfb8\",\"type\":\"LinearAxis\",\"attributes\":{\"formatter\":{\"type\":\"BasicTickFormatter\",\"id\":\"69164ef6-6c17-4715-c721-37c02b62bef0\"},\"ticker\":{\"type\":\"BasicTicker\",\"id\":\"5ca795bb-e696-4f46-cf25-a9f5564f16c4\"},\"plot\":{\"id\":\"aa79834e-62fe-4931-c97a-215505fb245f\",\"type\":\"Plot\",\"subtype\":\"Figure\"},\"axis_label\":null,\"id\":\"dead1311-a44a-466b-c6df-2e448c3ddfb8\",\"doc\":null,\"tags\":[]}},{\"id\":\"68f2fcf8-32da-40e7-c0d0-7a2a27313279\",\"type\":\"Grid\",\"attributes\":{\"dimension\":1,\"plot\":{\"id\":\"aa79834e-62fe-4931-c97a-215505fb245f\",\"type\":\"Plot\",\"subtype\":\"Figure\"},\"ticker\":{\"type\":\"BasicTicker\",\"id\":\"5ca795bb-e696-4f46-cf25-a9f5564f16c4\"},\"id\":\"68f2fcf8-32da-40e7-c0d0-7a2a27313279\",\"doc\":null,\"tags\":[]}},{\"id\":\"5a378944-7b3c-4520-c586-07b43985377b\",\"type\":\"PanTool\",\"attributes\":{\"plot\":{\"id\":\"aa79834e-62fe-4931-c97a-215505fb245f\",\"type\":\"Plot\",\"subtype\":\"Figure\"},\"dimensions\":[\"width\",\"height\"],\"id\":\"5a378944-7b3c-4520-c586-07b43985377b\",\"doc\":null,\"tags\":[]}},{\"id\":\"374867bb-f5ed-4c03-cc94-c879f6a8e7fd\",\"type\":\"WheelZoomTool\",\"attributes\":{\"plot\":{\"id\":\"aa79834e-62fe-4931-c97a-215505fb245f\",\"type\":\"Plot\",\"subtype\":\"Figure\"},\"dimensions\":[\"width\",\"height\"],\"id\":\"374867bb-f5ed-4c03-cc94-c879f6a8e7fd\",\"doc\":null,\"tags\":[]}},{\"id\":\"e25517cd-3e4d-4ec9-ce13-b140731388c2\",\"type\":\"BoxZoomTool\",\"attributes\":{\"plot\":{\"id\":\"aa79834e-62fe-4931-c97a-215505fb245f\",\"type\":\"Plot\",\"subtype\":\"Figure\"},\"id\":\"e25517cd-3e4d-4ec9-ce13-b140731388c2\",\"tags\":[],\"doc\":null}},{\"id\":\"621fe168-14ef-4273-c28b-8b87a11b42a0\",\"type\":\"PreviewSaveTool\",\"attributes\":{\"plot\":{\"id\":\"aa79834e-62fe-4931-c97a-215505fb245f\",\"type\":\"Plot\",\"subtype\":\"Figure\"},\"id\":\"621fe168-14ef-4273-c28b-8b87a11b42a0\",\"tags\":[],\"doc\":null}},{\"id\":\"38328263-8a7c-46bb-c6f9-c44451eaef01\",\"type\":\"ResizeTool\",\"attributes\":{\"plot\":{\"id\":\"aa79834e-62fe-4931-c97a-215505fb245f\",\"type\":\"Plot\",\"subtype\":\"Figure\"},\"id\":\"38328263-8a7c-46bb-c6f9-c44451eaef01\",\"tags\":[],\"doc\":null}},{\"id\":\"77dff367-a034-4c70-cc05-f6348dfc3182\",\"type\":\"ResetTool\",\"attributes\":{\"plot\":{\"id\":\"aa79834e-62fe-4931-c97a-215505fb245f\",\"type\":\"Plot\",\"subtype\":\"Figure\"},\"id\":\"77dff367-a034-4c70-cc05-f6348dfc3182\",\"tags\":[],\"doc\":null}},{\"id\":\"aa79834e-62fe-4931-c97a-215505fb245f\",\"type\":\"Plot\",\"attributes\":{\"x_range\":{\"type\":\"DataRange1d\",\"id\":\"879eedd4-3204-4e47-ce4f-e4eee7874098\"},\"tool_events\":{\"type\":\"ToolEvents\",\"id\":\"83cf6174-83d8-4560-c54d-eeb4c0590d89\"},\"below\":[{\"type\":\"LinearAxis\",\"id\":\"3b2ab9be-6086-4d96-cd0b-29e168a85086\"}],\"renderers\":[{\"type\":\"GlyphRenderer\",\"id\":\"4f4d10f5-e388-4b9b-cbf9-c9449d93716f\"},{\"type\":\"GlyphRenderer\",\"id\":\"859ec279-368f-4bd5-cbfe-edc6559df4c5\"},{\"type\":\"GlyphRenderer\",\"id\":\"77eec186-0054-431c-c372-a14b085461d5\"},{\"type\":\"GlyphRenderer\",\"id\":\"63cdae29-d8e5-4d25-cd6f-c002c1bdd632\"},{\"type\":\"LinearAxis\",\"id\":\"3b2ab9be-6086-4d96-cd0b-29e168a85086\"},{\"type\":\"Grid\",\"id\":\"d5b747fd-daeb-4556-c591-a030e515e25b\"},{\"type\":\"LinearAxis\",\"id\":\"dead1311-a44a-466b-c6df-2e448c3ddfb8\"},{\"type\":\"Grid\",\"id\":\"68f2fcf8-32da-40e7-c0d0-7a2a27313279\"}],\"above\":[],\"tools\":[{\"type\":\"PanTool\",\"id\":\"5a378944-7b3c-4520-c586-07b43985377b\"},{\"type\":\"WheelZoomTool\",\"id\":\"374867bb-f5ed-4c03-cc94-c879f6a8e7fd\"},{\"type\":\"BoxZoomTool\",\"id\":\"e25517cd-3e4d-4ec9-ce13-b140731388c2\"},{\"type\":\"PreviewSaveTool\",\"id\":\"621fe168-14ef-4273-c28b-8b87a11b42a0\"},{\"type\":\"ResizeTool\",\"id\":\"38328263-8a7c-46bb-c6f9-c44451eaef01\"},{\"type\":\"ResetTool\",\"id\":\"77dff367-a034-4c70-cc05-f6348dfc3182\"}],\"doc\":null,\"right\":[],\"title\":\" 0 - 0% - 0 minutes\",\"extra_x_ranges\":{},\"left\":[{\"type\":\"LinearAxis\",\"id\":\"dead1311-a44a-466b-c6df-2e448c3ddfb8\"}],\"y_range\":{\"type\":\"DataRange1d\",\"id\":\"d912b050-9b49-47dd-c708-a95a55d6bb2b\"},\"id\":\"aa79834e-62fe-4931-c97a-215505fb245f\",\"extra_y_ranges\":{},\"tags\":[]}}];\n",
        "      Bokeh.load_models(all_models);\n",
        "      var model = Bokeh.Collections(modeltype).get(modelid);\n",
        "      $(\"#720ce3f4-adbd-4759-c74d-6d1c03a579fa\").html(''); // clear any previous plot in window_id\n",
        "      var view = new model.default_view({model: model, el: \"#720ce3f4-adbd-4759-c74d-6d1c03a579fa\"});\n",
        "  });\n",
        "    }\n",
        "});\n",
        "</script>\n",
        "<div class=\"plotdiv\" id=\"720ce3f4-adbd-4759-c74d-6d1c03a579fa\"></div>\n"
       ],
       "metadata": {},
       "output_type": "display_data"
      }
     ]
    },
    {
     "cell_type": "code",
     "collapsed": false,
     "input": [],
     "language": "python",
     "metadata": {},
     "outputs": []
    },
    {
     "cell_type": "code",
     "collapsed": false,
     "input": [
      "utils:visualize(1)"
     ],
     "language": "python",
     "metadata": {},
     "outputs": [
      {
       "metadata": {},
       "output_type": "pyout",
       "prompt_number": 31,
       "text": [
        "=======\t\n",
        "bird\t\n"
       ]
      },
      {
       "metadata": {
        "png": {
         "height": 90,
         "width": 90
        }
       },
       "output_type": "display_data",
       "png": "[encoded data removed]",
       "text": [
        "Console does not support images"
       ]
      },
      {
       "ename": "...l/torch/install/share/lua/5.1/cunn/DataParallelTable.lua:249: attempt to index a nil value\nstack traceback:\n\t...l/torch/install/share/lua/5.1/cunn/DataParallelTable.lua:249: in function 'flattenParameters'\n\t...l/torch/install/share/lua/5.1/cunn/DataParallelTable.lua:275: in function 'forward'\n\t./cifar10_utils.lua:168: in function 'visualize_example'\n\t./cifar10_utils.lua:180: in function 'f'\n\t[string \"local f = function() return utils:visualize(1...\"]:1: in main chunk\n\t[C]: in function 'xpcall'\n\t/home/cgel/torch/install/share/lua/5.1/itorch/main.lua:179: in function </home/cgel/torch/install/share/lua/5.1/itorch/main.lua:143>\n\t/home/cgel/torch/install/share/lua/5.1/lzmq/poller.lua:75: in function 'poll'\n\t/home/cgel/torch/install/share/lua/5.1/lzmq/impl/loop.lua:307: in function 'poll'\n\t/home/cgel/torch/install/share/lua/5.1/lzmq/impl/loop.lua:325: in function 'sleep_ex'\n\t/home/cgel/torch/install/share/lua/5.1/lzmq/impl/loop.lua:370: in function 'start'\n\t/home/cgel/torch/install/share/lua/5.1/itorch/main.lua:350: in main chunk\n\t[C]: in function 'require'\n\t[string \"arg={'/home/cgel/.ipython/profile_torch/secur...\"]:1: in main chunk",
       "evalue": "",
       "output_type": "pyerr",
       "traceback": [
        "...l/torch/install/share/lua/5.1/cunn/DataParallelTable.lua:249: attempt to index a nil value\nstack traceback:\n\t...l/torch/install/share/lua/5.1/cunn/DataParallelTable.lua:249: in function 'flattenParameters'\n\t...l/torch/install/share/lua/5.1/cunn/DataParallelTable.lua:275: in function 'forward'\n\t./cifar10_utils.lua:168: in function 'visualize_example'\n\t./cifar10_utils.lua:180: in function 'f'\n\t[string \"local f = function() return utils:visualize(1...\"]:1: in main chunk\n\t[C]: in function 'xpcall'\n\t/home/cgel/torch/install/share/lua/5.1/itorch/main.lua:179: in function </home/cgel/torch/install/share/lua/5.1/itorch/main.lua:143>\n\t/home/cgel/torch/install/share/lua/5.1/lzmq/poller.lua:75: in function 'poll'\n\t/home/cgel/torch/install/share/lua/5.1/lzmq/impl/loop.lua:307: in function 'poll'\n\t/home/cgel/torch/install/share/lua/5.1/lzmq/impl/loop.lua:325: in function 'sleep_ex'\n\t/home/cgel/torch/install/share/lua/5.1/lzmq/impl/loop.lua:370: in function 'start'\n\t/home/cgel/torch/install/share/lua/5.1/itorch/main.lua:350: in main chunk\n\t[C]: in function 'require'\n\t[string \"arg={'/home/cgel/.ipython/profile_torch/secur...\"]:1: in main chunk"
       ]
      }
     ],
     "prompt_number": 31
    },
    {
     "cell_type": "code",
     "collapsed": false,
     "input": [
      "collectgarbage()"
     ],
     "language": "python",
     "metadata": {},
     "outputs": [
      {
       "metadata": {},
       "output_type": "pyout",
       "prompt_number": 30,
       "text": [
        "0\t\n"
       ]
      }
     ],
     "prompt_number": 30
    },
    {
     "cell_type": "code",
     "collapsed": false,
     "input": [
      "torch.save(\"trained_models/\"..model_name .. \"-normalized\", utils.net)"
     ],
     "language": "python",
     "metadata": {},
     "outputs": [
      {
       "metadata": {},
       "output_type": "pyout",
       "prompt_number": 23,
       "text": [
        "\n"
       ]
      }
     ],
     "prompt_number": 23
    },
    {
     "cell_type": "code",
     "collapsed": false,
     "input": [],
     "language": "python",
     "metadata": {},
     "outputs": []
    }
   ],
   "metadata": {}
  }
 ]
}