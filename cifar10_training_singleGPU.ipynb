{
 "metadata": {
  "language": "lua",
  "name": "",
  "signature": "sha256:6fa560d0241200804bd783d928ea0ddf53afb0c0e530e90394c1926cd21003a0"
 },
 "nbformat": 3,
 "nbformat_minor": 0,
 "worksheets": [
  {
   "cells": [
    {
     "cell_type": "code",
     "collapsed": false,
     "input": [
      "require \"cudnn\"\n",
      "require \"cunn\"\n",
      "cutorch.setDevice(2)\n",
      "Plot = require \"itorch.Plot\"\n",
      "utils = require \"cifar10_utils\"\n",
      "data = require(\"cifar10_load\")\n",
      "trainset = data.trainset:normalize()\n",
      "testset = data.testset:normalize()\n",
      "classes = data.classes\n",
      "collectgarbage()"
     ],
     "language": "python",
     "metadata": {},
     "outputs": [],
     "prompt_number": 1
    },
    {
     "cell_type": "code",
     "collapsed": false,
     "input": [
      "model_name = \"all-cnn-c-normalized-multyGPU\"\n",
      "load_model_name = model_name\n",
      "--load_model_name = \"vgg_10cw-5mp-3ls-N-cu\""
     ],
     "language": "python",
     "metadata": {},
     "outputs": [],
     "prompt_number": 2
    },
    {
     "cell_type": "code",
     "collapsed": true,
     "input": [
      "load_trained = true\n",
      "if load_trained == false then\n",
      "    utils.net = require(\"models/\" .. load_model_name)\n",
      "else\n",
      "    utils.net = torch.load(\"trained_models/\"..load_model_name)\n",
      "end\n",
      "\n",
      "utils.criterion = nn.ClassNLLCriterion():cuda()\n",
      "utils.net:cuda()\n",
      "\n",
      "utils.parameters, utils.gradParameters = utils.net:getParameters()"
     ],
     "language": "python",
     "metadata": {},
     "outputs": [],
     "prompt_number": 3
    },
    {
     "cell_type": "code",
     "collapsed": false,
     "input": [
      "--[[\n",
      "local n = torch.load(\"trained_models/fconv\")\n",
      "local lst1 = {}\n",
      "local size = 2\n",
      "for i = 1, size do\n",
      "    if n:get(i).weight then\n",
      "      lst1[#lst1 +1] = i \n",
      "    end\n",
      "end\n",
      "local lst2 = {}\n",
      "for i = 1, size do\n",
      "    if utils.net:get(i).weight then\n",
      "      lst2[#lst2 +1] = i \n",
      "    end\n",
      "end\n",
      "\n",
      "for i = 1, math.min(#lst1, #lst2) do\n",
      "   utils.net:get(lst2[i]).weight:copy(n:get(lst1[i]).weight)\n",
      "end\n",
      "    \n",
      "collectgarbage() "
     ],
     "language": "python",
     "metadata": {},
     "outputs": [
      {
       "ename": "[string \"--[[...\"]:22: unfinished long comment near '<eof>'",
       "evalue": "",
       "output_type": "pyerr",
       "traceback": [
        "[string \"--[[...\"]:22: unfinished long comment near '<eof>'"
       ]
      }
     ],
     "prompt_number": 4
    },
    {
     "cell_type": "code",
     "collapsed": false,
     "input": [
      "utils.augment = utils.no_augment"
     ],
     "language": "python",
     "metadata": {},
     "outputs": [],
     "prompt_number": 4
    },
    {
     "cell_type": "code",
     "collapsed": false,
     "input": [
      "log = {}\n",
      "--local train_loss, train_hist, train_accu = utils:evaluate(trainset)\n",
      "--local test_loss, test_hist, test_accu = utils:evaluate(testset)\n",
      "--log.train_losses = {train_loss}\n",
      "--log.train_accu = {train_accu}\n",
      "--log.test_losses = {test_loss}\n",
      "--log.test_accu = {test_accu}\n",
      "log.train_losses = {2.3}\n",
      "log.train_accu = {0.9}\n",
      "log.test_losses = {2.3}\n",
      "log.test_accu = {0.9}\n",
      "log.epoch = {0}"
     ],
     "language": "python",
     "metadata": {},
     "outputs": [],
     "prompt_number": 5
    },
    {
     "cell_type": "code",
     "collapsed": false,
     "input": [
      "utils.opt.optimState.batch_size = 64\n",
      "utils.opt.optimState.learningRate = 1e-4\n",
      "utils.opt.optimState.weightDecay = 5e-3\n",
      "utils.opt.optimState.momentum = 0.9"
     ],
     "language": "python",
     "metadata": {},
     "outputs": [],
     "prompt_number": 6
    },
    {
     "cell_type": "code",
     "collapsed": false,
     "input": [
      "local timer = torch.Timer()\n",
      "n_epoch = 2\n",
      "print_epoch = 1\n",
      "utils.err.any = false\n",
      "\n",
      "local loss_plot = Plot()\n",
      "loss_plot:title(\" 0 - 0% - 0 minutes\")\n",
      "loss_plot:line(log.epoch, log.train_losses, \"red\")\n",
      "loss_plot:line(log.epoch, log.train_accu, \"purple\")\n",
      "loss_plot:line(log.epoch, log.test_losses, \"blue\")\n",
      "loss_plot:line(log.epoch, log.test_accu, \"green\"):draw()\n",
      "\n",
      "for i = 1, n_epoch do\n",
      "    utils:train_epoch()    \n",
      "    if utils.err.any == true then\n",
      "        print(\"stoping because there was an error\")\n",
      "        break\n",
      "    end\n",
      "    if i % print_epoch == 0 then\n",
      "      local train_loss, train_hist, train_accu = utils:evaluate(trainset)\n",
      "      local test_loss, test_hist, test_accu = utils:evaluate(testset)\n",
      "      table.insert(log.train_losses, train_loss)\n",
      "      table.insert(log.test_losses, test_loss)\n",
      "      table.insert(log.train_accu, train_accu)\n",
      "      table.insert(log.test_accu, test_accu)\n",
      "      table.insert(log.epoch, log.epoch[#log.epoch] + print_epoch)\n",
      "      print(\"------------------------------------------------\")\n",
      "      print(\"epoch \" .. log.epoch[#log.epoch] .. \":\")\n",
      "      print(string.format(\" train loss = %.4f  -  train accuracy = %.2f%%\", train_loss, 100 - 100*train_accu))\n",
      "      print(string.format(\" test  loss = %.4f  -  test  accuracy = %.2f%%\", test_loss, 100 - 100*test_accu))\n",
      "      loss_plot:title(string.format(\" %i - %.0f%% - %.0f minutes\", i, i/n_epoch*100, timer:time().real/60))\n",
      "      loss_plot:line(log.epoch, log.train_losses, \"red\")\n",
      "      loss_plot:line(log.epoch, log.train_accu, \"purple\")\n",
      "      loss_plot:line(log.epoch, log.test_losses, \"blue\")\n",
      "      loss_plot:line(log.epoch, log.test_accu, \"green\"):redraw()\n",
      "      utils:ping()\n",
      "    end\n",
      "end\n",
      "collectgarbage()"
     ],
     "language": "python",
     "metadata": {},
     "outputs": [
      {
       "html": [
        "<script type=\"text/javascript\">\n",
        "$(function() {\n",
        "    if (typeof (window._bokeh_onload_callbacks) === \"undefined\"){\n",
        "  window._bokeh_onload_callbacks = [];\n",
        "    }\n",
        "    function load_lib(url, callback){\n",
        "  window._bokeh_onload_callbacks.push(callback);\n",
        "  if (window._bokeh_is_loading){\n",
        "      console.log(\"Bokeh: BokehJS is being loaded, scheduling callback at\", new Date());\n",
        "      return null;\n",
        "  }\n",
        "  console.log(\"Bokeh: BokehJS not loaded, scheduling load and callback at\", new Date());\n",
        "  window._bokeh_is_loading = true;\n",
        "  var s = document.createElement('script');\n",
        "  s.src = url;\n",
        "  s.async = true;\n",
        "  s.onreadystatechange = s.onload = function(){\n",
        "      Bokeh.embed.inject_css(\"http://cdn.pydata.org/bokeh-0.7.0.min.css\");\n",
        "      window._bokeh_onload_callbacks.forEach(function(callback){callback()});\n",
        "  };\n",
        "  s.onerror = function(){\n",
        "      console.warn(\"failed to load library \" + url);\n",
        "  };\n",
        "  document.getElementsByTagName(\"head\")[0].appendChild(s);\n",
        "    }\n",
        "\n",
        "    bokehjs_url = \"http://cdn.pydata.org/bokeh-0.7.0.min.js\"\n",
        "\n",
        "    var elt = document.getElementById(\"3de3aa81-2bc2-4514-c55b-552a597be5ee\");\n",
        "    if(elt==null) {\n",
        "  console.log(\"Bokeh: ERROR: autoload.js configured with elementid '3de3aa81-2bc2-4514-c55b-552a597be5ee'\"\n",
        "        + \"but no matching script tag was found. \")\n",
        "  return false;\n",
        "    }\n",
        "\n",
        "    if(typeof(Bokeh) !== \"undefined\") {\n",
        "  console.log(\"Bokeh: BokehJS loaded, going straight to plotting\");\n",
        "  var modelid = \"fb8d1727-b786-45ce-c531-9c54b5609220\";\n",
        "  var modeltype = \"Plot\";\n",
        "  var all_models = [{\"id\":\"598729a1-0cf7-497a-c946-bb2b6c2bb0b4\",\"type\":\"ColumnDataSource\",\"attributes\":{\"data\":{\"y\":[2.3],\"x\":[0]},\"column_names\":[\"y\",\"x\"],\"cont_ranges\":{},\"discrete_ranges\":{},\"selected\":[],\"id\":\"598729a1-0cf7-497a-c946-bb2b6c2bb0b4\",\"doc\":null,\"tags\":[]}},{\"id\":\"294bc1d6-012f-4c1b-ccc7-8ff65da8cfb9\",\"type\":\"Line\",\"attributes\":{\"fill_alpha\":{\"units\":\"data\",\"value\":0.2},\"line_alpha\":{\"units\":\"data\",\"value\":1},\"doc\":null,\"size\":{\"units\":\"screen\",\"value\":10},\"fill_color\":{\"value\":\"red\"},\"line_color\":{\"value\":\"red\"},\"x\":{\"units\":\"data\",\"field\":\"x\"},\"id\":\"294bc1d6-012f-4c1b-ccc7-8ff65da8cfb9\",\"y\":{\"units\":\"data\",\"field\":\"y\"},\"tags\":[]}},{\"id\":\"8065d0d8-e099-4afe-ca1c-cd2fa32b7fc2\",\"type\":\"Line\",\"attributes\":{\"fill_alpha\":{\"units\":\"data\",\"value\":0.2},\"line_alpha\":{\"units\":\"data\",\"value\":1},\"doc\":null,\"size\":{\"units\":\"screen\",\"value\":10},\"fill_color\":{\"value\":\"red\"},\"line_color\":{\"value\":\"red\"},\"x\":{\"units\":\"data\",\"field\":\"x\"},\"id\":\"8065d0d8-e099-4afe-ca1c-cd2fa32b7fc2\",\"y\":{\"units\":\"data\",\"field\":\"y\"},\"tags\":[]}},{\"id\":\"b8bff12f-b404-43d6-c3ca-4404aedee39e\",\"type\":\"GlyphRenderer\",\"attributes\":{\"name\":null,\"nonselection_glyph\":{\"type\":\"Line\",\"id\":\"8065d0d8-e099-4afe-ca1c-cd2fa32b7fc2\"},\"doc\":null,\"server_data_source\":null,\"data_source\":{\"type\":\"ColumnDataSource\",\"id\":\"598729a1-0cf7-497a-c946-bb2b6c2bb0b4\"},\"glyph\":{\"type\":\"Line\",\"id\":\"294bc1d6-012f-4c1b-ccc7-8ff65da8cfb9\"},\"selection_glyph\":null,\"id\":\"b8bff12f-b404-43d6-c3ca-4404aedee39e\",\"tags\":[]}},{\"id\":\"90ac4a97-417d-4903-c98b-ed9a675d4918\",\"type\":\"ColumnDataSource\",\"attributes\":{\"data\":{\"y\":[0.9],\"x\":[0]},\"column_names\":[\"y\",\"x\"],\"cont_ranges\":{},\"discrete_ranges\":{},\"selected\":[],\"id\":\"90ac4a97-417d-4903-c98b-ed9a675d4918\",\"doc\":null,\"tags\":[]}},{\"id\":\"50ab886e-2ffc-4562-c531-022fe52b2fa8\",\"type\":\"Line\",\"attributes\":{\"fill_alpha\":{\"units\":\"data\",\"value\":0.2},\"line_alpha\":{\"units\":\"data\",\"value\":1},\"doc\":null,\"size\":{\"units\":\"screen\",\"value\":10},\"fill_color\":{\"value\":\"purple\"},\"line_color\":{\"value\":\"purple\"},\"x\":{\"units\":\"data\",\"field\":\"x\"},\"id\":\"50ab886e-2ffc-4562-c531-022fe52b2fa8\",\"y\":{\"units\":\"data\",\"field\":\"y\"},\"tags\":[]}},{\"id\":\"22748664-18c5-491a-c983-aa6519a2cf3d\",\"type\":\"Line\",\"attributes\":{\"fill_alpha\":{\"units\":\"data\",\"value\":0.2},\"line_alpha\":{\"units\":\"data\",\"value\":1},\"doc\":null,\"size\":{\"units\":\"screen\",\"value\":10},\"fill_color\":{\"value\":\"purple\"},\"line_color\":{\"value\":\"purple\"},\"x\":{\"units\":\"data\",\"field\":\"x\"},\"id\":\"22748664-18c5-491a-c983-aa6519a2cf3d\",\"y\":{\"units\":\"data\",\"field\":\"y\"},\"tags\":[]}},{\"id\":\"dfc5d210-21c2-4941-c9e8-e315d3e43f11\",\"type\":\"GlyphRenderer\",\"attributes\":{\"name\":null,\"nonselection_glyph\":{\"type\":\"Line\",\"id\":\"22748664-18c5-491a-c983-aa6519a2cf3d\"},\"doc\":null,\"server_data_source\":null,\"data_source\":{\"type\":\"ColumnDataSource\",\"id\":\"90ac4a97-417d-4903-c98b-ed9a675d4918\"},\"glyph\":{\"type\":\"Line\",\"id\":\"50ab886e-2ffc-4562-c531-022fe52b2fa8\"},\"selection_glyph\":null,\"id\":\"dfc5d210-21c2-4941-c9e8-e315d3e43f11\",\"tags\":[]}},{\"id\":\"dbcc3eaa-b727-47b6-c720-42663355dce0\",\"type\":\"ColumnDataSource\",\"attributes\":{\"data\":{\"y\":[2.3],\"x\":[0]},\"column_names\":[\"y\",\"x\"],\"cont_ranges\":{},\"discrete_ranges\":{},\"selected\":[],\"id\":\"dbcc3eaa-b727-47b6-c720-42663355dce0\",\"doc\":null,\"tags\":[]}},{\"id\":\"5009ef23-82c9-4a61-ca83-74682f17fda2\",\"type\":\"Line\",\"attributes\":{\"fill_alpha\":{\"units\":\"data\",\"value\":0.2},\"line_alpha\":{\"units\":\"data\",\"value\":1},\"doc\":null,\"size\":{\"units\":\"screen\",\"value\":10},\"fill_color\":{\"value\":\"blue\"},\"line_color\":{\"value\":\"blue\"},\"x\":{\"units\":\"data\",\"field\":\"x\"},\"id\":\"5009ef23-82c9-4a61-ca83-74682f17fda2\",\"y\":{\"units\":\"data\",\"field\":\"y\"},\"tags\":[]}},{\"id\":\"cb31dc76-94d6-465b-c6f7-be2f9280a00e\",\"type\":\"Line\",\"attributes\":{\"fill_alpha\":{\"units\":\"data\",\"value\":0.2},\"line_alpha\":{\"units\":\"data\",\"value\":1},\"doc\":null,\"size\":{\"units\":\"screen\",\"value\":10},\"fill_color\":{\"value\":\"blue\"},\"line_color\":{\"value\":\"blue\"},\"x\":{\"units\":\"data\",\"field\":\"x\"},\"id\":\"cb31dc76-94d6-465b-c6f7-be2f9280a00e\",\"y\":{\"units\":\"data\",\"field\":\"y\"},\"tags\":[]}},{\"id\":\"2ce6d563-645b-437e-c3e5-955c0880629e\",\"type\":\"GlyphRenderer\",\"attributes\":{\"name\":null,\"nonselection_glyph\":{\"type\":\"Line\",\"id\":\"cb31dc76-94d6-465b-c6f7-be2f9280a00e\"},\"doc\":null,\"server_data_source\":null,\"data_source\":{\"type\":\"ColumnDataSource\",\"id\":\"dbcc3eaa-b727-47b6-c720-42663355dce0\"},\"glyph\":{\"type\":\"Line\",\"id\":\"5009ef23-82c9-4a61-ca83-74682f17fda2\"},\"selection_glyph\":null,\"id\":\"2ce6d563-645b-437e-c3e5-955c0880629e\",\"tags\":[]}},{\"id\":\"ae9bdc2a-8636-481f-c89f-c93e65dd2be2\",\"type\":\"ColumnDataSource\",\"attributes\":{\"data\":{\"y\":[0.9],\"x\":[0]},\"column_names\":[\"y\",\"x\"],\"cont_ranges\":{},\"discrete_ranges\":{},\"selected\":[],\"id\":\"ae9bdc2a-8636-481f-c89f-c93e65dd2be2\",\"doc\":null,\"tags\":[]}},{\"id\":\"6ea307e2-93aa-4cdd-cc53-0fe234bdd645\",\"type\":\"Line\",\"attributes\":{\"fill_alpha\":{\"units\":\"data\",\"value\":0.2},\"line_alpha\":{\"units\":\"data\",\"value\":1},\"doc\":null,\"size\":{\"units\":\"screen\",\"value\":10},\"fill_color\":{\"value\":\"green\"},\"line_color\":{\"value\":\"green\"},\"x\":{\"units\":\"data\",\"field\":\"x\"},\"id\":\"6ea307e2-93aa-4cdd-cc53-0fe234bdd645\",\"y\":{\"units\":\"data\",\"field\":\"y\"},\"tags\":[]}},{\"id\":\"16ca4d4e-69df-4fa1-cf2a-9b4b1287e209\",\"type\":\"Line\",\"attributes\":{\"fill_alpha\":{\"units\":\"data\",\"value\":0.2},\"line_alpha\":{\"units\":\"data\",\"value\":1},\"doc\":null,\"size\":{\"units\":\"screen\",\"value\":10},\"fill_color\":{\"value\":\"green\"},\"line_color\":{\"value\":\"green\"},\"x\":{\"units\":\"data\",\"field\":\"x\"},\"id\":\"16ca4d4e-69df-4fa1-cf2a-9b4b1287e209\",\"y\":{\"units\":\"data\",\"field\":\"y\"},\"tags\":[]}},{\"id\":\"bc15cc70-ce9e-41f7-c15e-cf43818825f6\",\"type\":\"GlyphRenderer\",\"attributes\":{\"name\":null,\"nonselection_glyph\":{\"type\":\"Line\",\"id\":\"16ca4d4e-69df-4fa1-cf2a-9b4b1287e209\"},\"doc\":null,\"server_data_source\":null,\"data_source\":{\"type\":\"ColumnDataSource\",\"id\":\"ae9bdc2a-8636-481f-c89f-c93e65dd2be2\"},\"glyph\":{\"type\":\"Line\",\"id\":\"6ea307e2-93aa-4cdd-cc53-0fe234bdd645\"},\"selection_glyph\":null,\"id\":\"bc15cc70-ce9e-41f7-c15e-cf43818825f6\",\"tags\":[]}},{\"id\":\"f58a716c-0919-4ed1-ce81-4532f5591c71\",\"type\":\"DataRange1d\",\"attributes\":{\"sources\":[{\"columns\":[\"x\"],\"source\":{\"type\":\"ColumnDataSource\",\"id\":\"598729a1-0cf7-497a-c946-bb2b6c2bb0b4\"}},{\"columns\":[\"x\"],\"source\":{\"type\":\"ColumnDataSource\",\"id\":\"90ac4a97-417d-4903-c98b-ed9a675d4918\"}},{\"columns\":[\"x\"],\"source\":{\"type\":\"ColumnDataSource\",\"id\":\"dbcc3eaa-b727-47b6-c720-42663355dce0\"}},{\"columns\":[\"x\"],\"source\":{\"type\":\"ColumnDataSource\",\"id\":\"ae9bdc2a-8636-481f-c89f-c93e65dd2be2\"}}],\"id\":\"f58a716c-0919-4ed1-ce81-4532f5591c71\",\"tags\":[],\"doc\":null}},{\"id\":\"7d0e3034-00f9-433f-c303-8ee9f15f43eb\",\"type\":\"DataRange1d\",\"attributes\":{\"sources\":[{\"columns\":[\"y\"],\"source\":{\"type\":\"ColumnDataSource\",\"id\":\"598729a1-0cf7-497a-c946-bb2b6c2bb0b4\"}},{\"columns\":[\"y\"],\"source\":{\"type\":\"ColumnDataSource\",\"id\":\"90ac4a97-417d-4903-c98b-ed9a675d4918\"}},{\"columns\":[\"y\"],\"source\":{\"type\":\"ColumnDataSource\",\"id\":\"dbcc3eaa-b727-47b6-c720-42663355dce0\"}},{\"columns\":[\"y\"],\"source\":{\"type\":\"ColumnDataSource\",\"id\":\"ae9bdc2a-8636-481f-c89f-c93e65dd2be2\"}}],\"id\":\"7d0e3034-00f9-433f-c303-8ee9f15f43eb\",\"tags\":[],\"doc\":null}},{\"id\":\"3f6751a2-733b-4934-c931-1d1d86374e94\",\"type\":\"ToolEvents\",\"attributes\":{\"tags\":[],\"id\":\"3f6751a2-733b-4934-c931-1d1d86374e94\",\"geometries\":[],\"doc\":null}},{\"id\":\"916b9db1-7745-489e-c89f-1f690cc20823\",\"type\":\"BasicTickFormatter\",\"attributes\":{\"id\":\"916b9db1-7745-489e-c89f-1f690cc20823\",\"tags\":[],\"doc\":null}},{\"id\":\"1abaa17f-bd72-4876-c83c-1f031df8990d\",\"type\":\"BasicTicker\",\"attributes\":{\"num_minor_ticks\":5,\"id\":\"1abaa17f-bd72-4876-c83c-1f031df8990d\",\"tags\":[],\"doc\":null}},{\"id\":\"6b9474d1-8d60-4850-c806-e7a23f5fff7f\",\"type\":\"LinearAxis\",\"attributes\":{\"formatter\":{\"type\":\"BasicTickFormatter\",\"id\":\"916b9db1-7745-489e-c89f-1f690cc20823\"},\"ticker\":{\"type\":\"BasicTicker\",\"id\":\"1abaa17f-bd72-4876-c83c-1f031df8990d\"},\"plot\":{\"id\":\"fb8d1727-b786-45ce-c531-9c54b5609220\",\"type\":\"Plot\",\"subtype\":\"Figure\"},\"axis_label\":null,\"id\":\"6b9474d1-8d60-4850-c806-e7a23f5fff7f\",\"doc\":null,\"tags\":[]}},{\"id\":\"a49f8f88-172c-43fc-c36e-1e4be944b303\",\"type\":\"Grid\",\"attributes\":{\"dimension\":0,\"plot\":{\"id\":\"fb8d1727-b786-45ce-c531-9c54b5609220\",\"type\":\"Plot\",\"subtype\":\"Figure\"},\"ticker\":{\"type\":\"BasicTicker\",\"id\":\"1abaa17f-bd72-4876-c83c-1f031df8990d\"},\"id\":\"a49f8f88-172c-43fc-c36e-1e4be944b303\",\"doc\":null,\"tags\":[]}},{\"id\":\"4c92973d-d7fe-41e5-c1dd-b80d028b6905\",\"type\":\"BasicTickFormatter\",\"attributes\":{\"id\":\"4c92973d-d7fe-41e5-c1dd-b80d028b6905\",\"tags\":[],\"doc\":null}},{\"id\":\"c1b533d8-3c18-4cdd-cc47-403647fe1018\",\"type\":\"BasicTicker\",\"attributes\":{\"num_minor_ticks\":5,\"id\":\"c1b533d8-3c18-4cdd-cc47-403647fe1018\",\"tags\":[],\"doc\":null}},{\"id\":\"f7004df0-ddf7-4d03-cdb8-4fa1de6e3bcf\",\"type\":\"LinearAxis\",\"attributes\":{\"formatter\":{\"type\":\"BasicTickFormatter\",\"id\":\"4c92973d-d7fe-41e5-c1dd-b80d028b6905\"},\"ticker\":{\"type\":\"BasicTicker\",\"id\":\"c1b533d8-3c18-4cdd-cc47-403647fe1018\"},\"plot\":{\"id\":\"fb8d1727-b786-45ce-c531-9c54b5609220\",\"type\":\"Plot\",\"subtype\":\"Figure\"},\"axis_label\":null,\"id\":\"f7004df0-ddf7-4d03-cdb8-4fa1de6e3bcf\",\"doc\":null,\"tags\":[]}},{\"id\":\"fc73a7e6-7404-4f02-cf0e-21bbb4c021ef\",\"type\":\"Grid\",\"attributes\":{\"dimension\":1,\"plot\":{\"id\":\"fb8d1727-b786-45ce-c531-9c54b5609220\",\"type\":\"Plot\",\"subtype\":\"Figure\"},\"ticker\":{\"type\":\"BasicTicker\",\"id\":\"c1b533d8-3c18-4cdd-cc47-403647fe1018\"},\"id\":\"fc73a7e6-7404-4f02-cf0e-21bbb4c021ef\",\"doc\":null,\"tags\":[]}},{\"id\":\"3341b4ae-cbb7-4b06-cb09-af6b68284b67\",\"type\":\"PanTool\",\"attributes\":{\"plot\":{\"id\":\"fb8d1727-b786-45ce-c531-9c54b5609220\",\"type\":\"Plot\",\"subtype\":\"Figure\"},\"dimensions\":[\"width\",\"height\"],\"id\":\"3341b4ae-cbb7-4b06-cb09-af6b68284b67\",\"doc\":null,\"tags\":[]}},{\"id\":\"4790005a-184c-44cd-c430-d44d8e4487c9\",\"type\":\"WheelZoomTool\",\"attributes\":{\"plot\":{\"id\":\"fb8d1727-b786-45ce-c531-9c54b5609220\",\"type\":\"Plot\",\"subtype\":\"Figure\"},\"dimensions\":[\"width\",\"height\"],\"id\":\"4790005a-184c-44cd-c430-d44d8e4487c9\",\"doc\":null,\"tags\":[]}},{\"id\":\"851d1b8b-11ef-4d4f-cd56-15c4c5291a50\",\"type\":\"BoxZoomTool\",\"attributes\":{\"plot\":{\"id\":\"fb8d1727-b786-45ce-c531-9c54b5609220\",\"type\":\"Plot\",\"subtype\":\"Figure\"},\"id\":\"851d1b8b-11ef-4d4f-cd56-15c4c5291a50\",\"tags\":[],\"doc\":null}},{\"id\":\"edb83bf6-05e3-44b6-c4a2-4de8e78dc2eb\",\"type\":\"PreviewSaveTool\",\"attributes\":{\"plot\":{\"id\":\"fb8d1727-b786-45ce-c531-9c54b5609220\",\"type\":\"Plot\",\"subtype\":\"Figure\"},\"id\":\"edb83bf6-05e3-44b6-c4a2-4de8e78dc2eb\",\"tags\":[],\"doc\":null}},{\"id\":\"9ad64c8d-0dc1-490d-c9da-0dd82bac1e91\",\"type\":\"ResizeTool\",\"attributes\":{\"plot\":{\"id\":\"fb8d1727-b786-45ce-c531-9c54b5609220\",\"type\":\"Plot\",\"subtype\":\"Figure\"},\"id\":\"9ad64c8d-0dc1-490d-c9da-0dd82bac1e91\",\"tags\":[],\"doc\":null}},{\"id\":\"88fe02b4-c305-4443-c4bc-51a48e8ab53c\",\"type\":\"ResetTool\",\"attributes\":{\"plot\":{\"id\":\"fb8d1727-b786-45ce-c531-9c54b5609220\",\"type\":\"Plot\",\"subtype\":\"Figure\"},\"id\":\"88fe02b4-c305-4443-c4bc-51a48e8ab53c\",\"tags\":[],\"doc\":null}},{\"id\":\"fb8d1727-b786-45ce-c531-9c54b5609220\",\"type\":\"Plot\",\"attributes\":{\"x_range\":{\"type\":\"DataRange1d\",\"id\":\"f58a716c-0919-4ed1-ce81-4532f5591c71\"},\"tool_events\":{\"type\":\"ToolEvents\",\"id\":\"3f6751a2-733b-4934-c931-1d1d86374e94\"},\"below\":[{\"type\":\"LinearAxis\",\"id\":\"6b9474d1-8d60-4850-c806-e7a23f5fff7f\"}],\"renderers\":[{\"type\":\"GlyphRenderer\",\"id\":\"b8bff12f-b404-43d6-c3ca-4404aedee39e\"},{\"type\":\"GlyphRenderer\",\"id\":\"dfc5d210-21c2-4941-c9e8-e315d3e43f11\"},{\"type\":\"GlyphRenderer\",\"id\":\"2ce6d563-645b-437e-c3e5-955c0880629e\"},{\"type\":\"GlyphRenderer\",\"id\":\"bc15cc70-ce9e-41f7-c15e-cf43818825f6\"},{\"type\":\"LinearAxis\",\"id\":\"6b9474d1-8d60-4850-c806-e7a23f5fff7f\"},{\"type\":\"Grid\",\"id\":\"a49f8f88-172c-43fc-c36e-1e4be944b303\"},{\"type\":\"LinearAxis\",\"id\":\"f7004df0-ddf7-4d03-cdb8-4fa1de6e3bcf\"},{\"type\":\"Grid\",\"id\":\"fc73a7e6-7404-4f02-cf0e-21bbb4c021ef\"}],\"above\":[],\"tools\":[{\"type\":\"PanTool\",\"id\":\"3341b4ae-cbb7-4b06-cb09-af6b68284b67\"},{\"type\":\"WheelZoomTool\",\"id\":\"4790005a-184c-44cd-c430-d44d8e4487c9\"},{\"type\":\"BoxZoomTool\",\"id\":\"851d1b8b-11ef-4d4f-cd56-15c4c5291a50\"},{\"type\":\"PreviewSaveTool\",\"id\":\"edb83bf6-05e3-44b6-c4a2-4de8e78dc2eb\"},{\"type\":\"ResizeTool\",\"id\":\"9ad64c8d-0dc1-490d-c9da-0dd82bac1e91\"},{\"type\":\"ResetTool\",\"id\":\"88fe02b4-c305-4443-c4bc-51a48e8ab53c\"}],\"doc\":null,\"right\":[],\"title\":\" 0 - 0% - 0 minutes\",\"extra_x_ranges\":{},\"left\":[{\"type\":\"LinearAxis\",\"id\":\"f7004df0-ddf7-4d03-cdb8-4fa1de6e3bcf\"}],\"y_range\":{\"type\":\"DataRange1d\",\"id\":\"7d0e3034-00f9-433f-c303-8ee9f15f43eb\"},\"id\":\"fb8d1727-b786-45ce-c531-9c54b5609220\",\"extra_y_ranges\":{},\"tags\":[]}}];\n",
        "  Bokeh.load_models(all_models);\n",
        "  var model = Bokeh.Collections(modeltype).get(modelid);\n",
        "  $(\"#3de3aa81-2bc2-4514-c55b-552a597be5ee\").html(''); // clear any previous plot in window_id\n",
        "  var view = new model.default_view({model: model, el: \"#3de3aa81-2bc2-4514-c55b-552a597be5ee\"});\n",
        "    } else {\n",
        "  load_lib(bokehjs_url, function() {\n",
        "      console.log(\"Bokeh: BokehJS plotting callback run at\", new Date())\n",
        "      var modelid = \"fb8d1727-b786-45ce-c531-9c54b5609220\";\n",
        "      var modeltype = \"Plot\";\n",
        "      var all_models = [{\"id\":\"598729a1-0cf7-497a-c946-bb2b6c2bb0b4\",\"type\":\"ColumnDataSource\",\"attributes\":{\"data\":{\"y\":[2.3],\"x\":[0]},\"column_names\":[\"y\",\"x\"],\"cont_ranges\":{},\"discrete_ranges\":{},\"selected\":[],\"id\":\"598729a1-0cf7-497a-c946-bb2b6c2bb0b4\",\"doc\":null,\"tags\":[]}},{\"id\":\"294bc1d6-012f-4c1b-ccc7-8ff65da8cfb9\",\"type\":\"Line\",\"attributes\":{\"fill_alpha\":{\"units\":\"data\",\"value\":0.2},\"line_alpha\":{\"units\":\"data\",\"value\":1},\"doc\":null,\"size\":{\"units\":\"screen\",\"value\":10},\"fill_color\":{\"value\":\"red\"},\"line_color\":{\"value\":\"red\"},\"x\":{\"units\":\"data\",\"field\":\"x\"},\"id\":\"294bc1d6-012f-4c1b-ccc7-8ff65da8cfb9\",\"y\":{\"units\":\"data\",\"field\":\"y\"},\"tags\":[]}},{\"id\":\"8065d0d8-e099-4afe-ca1c-cd2fa32b7fc2\",\"type\":\"Line\",\"attributes\":{\"fill_alpha\":{\"units\":\"data\",\"value\":0.2},\"line_alpha\":{\"units\":\"data\",\"value\":1},\"doc\":null,\"size\":{\"units\":\"screen\",\"value\":10},\"fill_color\":{\"value\":\"red\"},\"line_color\":{\"value\":\"red\"},\"x\":{\"units\":\"data\",\"field\":\"x\"},\"id\":\"8065d0d8-e099-4afe-ca1c-cd2fa32b7fc2\",\"y\":{\"units\":\"data\",\"field\":\"y\"},\"tags\":[]}},{\"id\":\"b8bff12f-b404-43d6-c3ca-4404aedee39e\",\"type\":\"GlyphRenderer\",\"attributes\":{\"name\":null,\"nonselection_glyph\":{\"type\":\"Line\",\"id\":\"8065d0d8-e099-4afe-ca1c-cd2fa32b7fc2\"},\"doc\":null,\"server_data_source\":null,\"data_source\":{\"type\":\"ColumnDataSource\",\"id\":\"598729a1-0cf7-497a-c946-bb2b6c2bb0b4\"},\"glyph\":{\"type\":\"Line\",\"id\":\"294bc1d6-012f-4c1b-ccc7-8ff65da8cfb9\"},\"selection_glyph\":null,\"id\":\"b8bff12f-b404-43d6-c3ca-4404aedee39e\",\"tags\":[]}},{\"id\":\"90ac4a97-417d-4903-c98b-ed9a675d4918\",\"type\":\"ColumnDataSource\",\"attributes\":{\"data\":{\"y\":[0.9],\"x\":[0]},\"column_names\":[\"y\",\"x\"],\"cont_ranges\":{},\"discrete_ranges\":{},\"selected\":[],\"id\":\"90ac4a97-417d-4903-c98b-ed9a675d4918\",\"doc\":null,\"tags\":[]}},{\"id\":\"50ab886e-2ffc-4562-c531-022fe52b2fa8\",\"type\":\"Line\",\"attributes\":{\"fill_alpha\":{\"units\":\"data\",\"value\":0.2},\"line_alpha\":{\"units\":\"data\",\"value\":1},\"doc\":null,\"size\":{\"units\":\"screen\",\"value\":10},\"fill_color\":{\"value\":\"purple\"},\"line_color\":{\"value\":\"purple\"},\"x\":{\"units\":\"data\",\"field\":\"x\"},\"id\":\"50ab886e-2ffc-4562-c531-022fe52b2fa8\",\"y\":{\"units\":\"data\",\"field\":\"y\"},\"tags\":[]}},{\"id\":\"22748664-18c5-491a-c983-aa6519a2cf3d\",\"type\":\"Line\",\"attributes\":{\"fill_alpha\":{\"units\":\"data\",\"value\":0.2},\"line_alpha\":{\"units\":\"data\",\"value\":1},\"doc\":null,\"size\":{\"units\":\"screen\",\"value\":10},\"fill_color\":{\"value\":\"purple\"},\"line_color\":{\"value\":\"purple\"},\"x\":{\"units\":\"data\",\"field\":\"x\"},\"id\":\"22748664-18c5-491a-c983-aa6519a2cf3d\",\"y\":{\"units\":\"data\",\"field\":\"y\"},\"tags\":[]}},{\"id\":\"dfc5d210-21c2-4941-c9e8-e315d3e43f11\",\"type\":\"GlyphRenderer\",\"attributes\":{\"name\":null,\"nonselection_glyph\":{\"type\":\"Line\",\"id\":\"22748664-18c5-491a-c983-aa6519a2cf3d\"},\"doc\":null,\"server_data_source\":null,\"data_source\":{\"type\":\"ColumnDataSource\",\"id\":\"90ac4a97-417d-4903-c98b-ed9a675d4918\"},\"glyph\":{\"type\":\"Line\",\"id\":\"50ab886e-2ffc-4562-c531-022fe52b2fa8\"},\"selection_glyph\":null,\"id\":\"dfc5d210-21c2-4941-c9e8-e315d3e43f11\",\"tags\":[]}},{\"id\":\"dbcc3eaa-b727-47b6-c720-42663355dce0\",\"type\":\"ColumnDataSource\",\"attributes\":{\"data\":{\"y\":[2.3],\"x\":[0]},\"column_names\":[\"y\",\"x\"],\"cont_ranges\":{},\"discrete_ranges\":{},\"selected\":[],\"id\":\"dbcc3eaa-b727-47b6-c720-42663355dce0\",\"doc\":null,\"tags\":[]}},{\"id\":\"5009ef23-82c9-4a61-ca83-74682f17fda2\",\"type\":\"Line\",\"attributes\":{\"fill_alpha\":{\"units\":\"data\",\"value\":0.2},\"line_alpha\":{\"units\":\"data\",\"value\":1},\"doc\":null,\"size\":{\"units\":\"screen\",\"value\":10},\"fill_color\":{\"value\":\"blue\"},\"line_color\":{\"value\":\"blue\"},\"x\":{\"units\":\"data\",\"field\":\"x\"},\"id\":\"5009ef23-82c9-4a61-ca83-74682f17fda2\",\"y\":{\"units\":\"data\",\"field\":\"y\"},\"tags\":[]}},{\"id\":\"cb31dc76-94d6-465b-c6f7-be2f9280a00e\",\"type\":\"Line\",\"attributes\":{\"fill_alpha\":{\"units\":\"data\",\"value\":0.2},\"line_alpha\":{\"units\":\"data\",\"value\":1},\"doc\":null,\"size\":{\"units\":\"screen\",\"value\":10},\"fill_color\":{\"value\":\"blue\"},\"line_color\":{\"value\":\"blue\"},\"x\":{\"units\":\"data\",\"field\":\"x\"},\"id\":\"cb31dc76-94d6-465b-c6f7-be2f9280a00e\",\"y\":{\"units\":\"data\",\"field\":\"y\"},\"tags\":[]}},{\"id\":\"2ce6d563-645b-437e-c3e5-955c0880629e\",\"type\":\"GlyphRenderer\",\"attributes\":{\"name\":null,\"nonselection_glyph\":{\"type\":\"Line\",\"id\":\"cb31dc76-94d6-465b-c6f7-be2f9280a00e\"},\"doc\":null,\"server_data_source\":null,\"data_source\":{\"type\":\"ColumnDataSource\",\"id\":\"dbcc3eaa-b727-47b6-c720-42663355dce0\"},\"glyph\":{\"type\":\"Line\",\"id\":\"5009ef23-82c9-4a61-ca83-74682f17fda2\"},\"selection_glyph\":null,\"id\":\"2ce6d563-645b-437e-c3e5-955c0880629e\",\"tags\":[]}},{\"id\":\"ae9bdc2a-8636-481f-c89f-c93e65dd2be2\",\"type\":\"ColumnDataSource\",\"attributes\":{\"data\":{\"y\":[0.9],\"x\":[0]},\"column_names\":[\"y\",\"x\"],\"cont_ranges\":{},\"discrete_ranges\":{},\"selected\":[],\"id\":\"ae9bdc2a-8636-481f-c89f-c93e65dd2be2\",\"doc\":null,\"tags\":[]}},{\"id\":\"6ea307e2-93aa-4cdd-cc53-0fe234bdd645\",\"type\":\"Line\",\"attributes\":{\"fill_alpha\":{\"units\":\"data\",\"value\":0.2},\"line_alpha\":{\"units\":\"data\",\"value\":1},\"doc\":null,\"size\":{\"units\":\"screen\",\"value\":10},\"fill_color\":{\"value\":\"green\"},\"line_color\":{\"value\":\"green\"},\"x\":{\"units\":\"data\",\"field\":\"x\"},\"id\":\"6ea307e2-93aa-4cdd-cc53-0fe234bdd645\",\"y\":{\"units\":\"data\",\"field\":\"y\"},\"tags\":[]}},{\"id\":\"16ca4d4e-69df-4fa1-cf2a-9b4b1287e209\",\"type\":\"Line\",\"attributes\":{\"fill_alpha\":{\"units\":\"data\",\"value\":0.2},\"line_alpha\":{\"units\":\"data\",\"value\":1},\"doc\":null,\"size\":{\"units\":\"screen\",\"value\":10},\"fill_color\":{\"value\":\"green\"},\"line_color\":{\"value\":\"green\"},\"x\":{\"units\":\"data\",\"field\":\"x\"},\"id\":\"16ca4d4e-69df-4fa1-cf2a-9b4b1287e209\",\"y\":{\"units\":\"data\",\"field\":\"y\"},\"tags\":[]}},{\"id\":\"bc15cc70-ce9e-41f7-c15e-cf43818825f6\",\"type\":\"GlyphRenderer\",\"attributes\":{\"name\":null,\"nonselection_glyph\":{\"type\":\"Line\",\"id\":\"16ca4d4e-69df-4fa1-cf2a-9b4b1287e209\"},\"doc\":null,\"server_data_source\":null,\"data_source\":{\"type\":\"ColumnDataSource\",\"id\":\"ae9bdc2a-8636-481f-c89f-c93e65dd2be2\"},\"glyph\":{\"type\":\"Line\",\"id\":\"6ea307e2-93aa-4cdd-cc53-0fe234bdd645\"},\"selection_glyph\":null,\"id\":\"bc15cc70-ce9e-41f7-c15e-cf43818825f6\",\"tags\":[]}},{\"id\":\"f58a716c-0919-4ed1-ce81-4532f5591c71\",\"type\":\"DataRange1d\",\"attributes\":{\"sources\":[{\"columns\":[\"x\"],\"source\":{\"type\":\"ColumnDataSource\",\"id\":\"598729a1-0cf7-497a-c946-bb2b6c2bb0b4\"}},{\"columns\":[\"x\"],\"source\":{\"type\":\"ColumnDataSource\",\"id\":\"90ac4a97-417d-4903-c98b-ed9a675d4918\"}},{\"columns\":[\"x\"],\"source\":{\"type\":\"ColumnDataSource\",\"id\":\"dbcc3eaa-b727-47b6-c720-42663355dce0\"}},{\"columns\":[\"x\"],\"source\":{\"type\":\"ColumnDataSource\",\"id\":\"ae9bdc2a-8636-481f-c89f-c93e65dd2be2\"}}],\"id\":\"f58a716c-0919-4ed1-ce81-4532f5591c71\",\"tags\":[],\"doc\":null}},{\"id\":\"7d0e3034-00f9-433f-c303-8ee9f15f43eb\",\"type\":\"DataRange1d\",\"attributes\":{\"sources\":[{\"columns\":[\"y\"],\"source\":{\"type\":\"ColumnDataSource\",\"id\":\"598729a1-0cf7-497a-c946-bb2b6c2bb0b4\"}},{\"columns\":[\"y\"],\"source\":{\"type\":\"ColumnDataSource\",\"id\":\"90ac4a97-417d-4903-c98b-ed9a675d4918\"}},{\"columns\":[\"y\"],\"source\":{\"type\":\"ColumnDataSource\",\"id\":\"dbcc3eaa-b727-47b6-c720-42663355dce0\"}},{\"columns\":[\"y\"],\"source\":{\"type\":\"ColumnDataSource\",\"id\":\"ae9bdc2a-8636-481f-c89f-c93e65dd2be2\"}}],\"id\":\"7d0e3034-00f9-433f-c303-8ee9f15f43eb\",\"tags\":[],\"doc\":null}},{\"id\":\"3f6751a2-733b-4934-c931-1d1d86374e94\",\"type\":\"ToolEvents\",\"attributes\":{\"tags\":[],\"id\":\"3f6751a2-733b-4934-c931-1d1d86374e94\",\"geometries\":[],\"doc\":null}},{\"id\":\"916b9db1-7745-489e-c89f-1f690cc20823\",\"type\":\"BasicTickFormatter\",\"attributes\":{\"id\":\"916b9db1-7745-489e-c89f-1f690cc20823\",\"tags\":[],\"doc\":null}},{\"id\":\"1abaa17f-bd72-4876-c83c-1f031df8990d\",\"type\":\"BasicTicker\",\"attributes\":{\"num_minor_ticks\":5,\"id\":\"1abaa17f-bd72-4876-c83c-1f031df8990d\",\"tags\":[],\"doc\":null}},{\"id\":\"6b9474d1-8d60-4850-c806-e7a23f5fff7f\",\"type\":\"LinearAxis\",\"attributes\":{\"formatter\":{\"type\":\"BasicTickFormatter\",\"id\":\"916b9db1-7745-489e-c89f-1f690cc20823\"},\"ticker\":{\"type\":\"BasicTicker\",\"id\":\"1abaa17f-bd72-4876-c83c-1f031df8990d\"},\"plot\":{\"id\":\"fb8d1727-b786-45ce-c531-9c54b5609220\",\"type\":\"Plot\",\"subtype\":\"Figure\"},\"axis_label\":null,\"id\":\"6b9474d1-8d60-4850-c806-e7a23f5fff7f\",\"doc\":null,\"tags\":[]}},{\"id\":\"a49f8f88-172c-43fc-c36e-1e4be944b303\",\"type\":\"Grid\",\"attributes\":{\"dimension\":0,\"plot\":{\"id\":\"fb8d1727-b786-45ce-c531-9c54b5609220\",\"type\":\"Plot\",\"subtype\":\"Figure\"},\"ticker\":{\"type\":\"BasicTicker\",\"id\":\"1abaa17f-bd72-4876-c83c-1f031df8990d\"},\"id\":\"a49f8f88-172c-43fc-c36e-1e4be944b303\",\"doc\":null,\"tags\":[]}},{\"id\":\"4c92973d-d7fe-41e5-c1dd-b80d028b6905\",\"type\":\"BasicTickFormatter\",\"attributes\":{\"id\":\"4c92973d-d7fe-41e5-c1dd-b80d028b6905\",\"tags\":[],\"doc\":null}},{\"id\":\"c1b533d8-3c18-4cdd-cc47-403647fe1018\",\"type\":\"BasicTicker\",\"attributes\":{\"num_minor_ticks\":5,\"id\":\"c1b533d8-3c18-4cdd-cc47-403647fe1018\",\"tags\":[],\"doc\":null}},{\"id\":\"f7004df0-ddf7-4d03-cdb8-4fa1de6e3bcf\",\"type\":\"LinearAxis\",\"attributes\":{\"formatter\":{\"type\":\"BasicTickFormatter\",\"id\":\"4c92973d-d7fe-41e5-c1dd-b80d028b6905\"},\"ticker\":{\"type\":\"BasicTicker\",\"id\":\"c1b533d8-3c18-4cdd-cc47-403647fe1018\"},\"plot\":{\"id\":\"fb8d1727-b786-45ce-c531-9c54b5609220\",\"type\":\"Plot\",\"subtype\":\"Figure\"},\"axis_label\":null,\"id\":\"f7004df0-ddf7-4d03-cdb8-4fa1de6e3bcf\",\"doc\":null,\"tags\":[]}},{\"id\":\"fc73a7e6-7404-4f02-cf0e-21bbb4c021ef\",\"type\":\"Grid\",\"attributes\":{\"dimension\":1,\"plot\":{\"id\":\"fb8d1727-b786-45ce-c531-9c54b5609220\",\"type\":\"Plot\",\"subtype\":\"Figure\"},\"ticker\":{\"type\":\"BasicTicker\",\"id\":\"c1b533d8-3c18-4cdd-cc47-403647fe1018\"},\"id\":\"fc73a7e6-7404-4f02-cf0e-21bbb4c021ef\",\"doc\":null,\"tags\":[]}},{\"id\":\"3341b4ae-cbb7-4b06-cb09-af6b68284b67\",\"type\":\"PanTool\",\"attributes\":{\"plot\":{\"id\":\"fb8d1727-b786-45ce-c531-9c54b5609220\",\"type\":\"Plot\",\"subtype\":\"Figure\"},\"dimensions\":[\"width\",\"height\"],\"id\":\"3341b4ae-cbb7-4b06-cb09-af6b68284b67\",\"doc\":null,\"tags\":[]}},{\"id\":\"4790005a-184c-44cd-c430-d44d8e4487c9\",\"type\":\"WheelZoomTool\",\"attributes\":{\"plot\":{\"id\":\"fb8d1727-b786-45ce-c531-9c54b5609220\",\"type\":\"Plot\",\"subtype\":\"Figure\"},\"dimensions\":[\"width\",\"height\"],\"id\":\"4790005a-184c-44cd-c430-d44d8e4487c9\",\"doc\":null,\"tags\":[]}},{\"id\":\"851d1b8b-11ef-4d4f-cd56-15c4c5291a50\",\"type\":\"BoxZoomTool\",\"attributes\":{\"plot\":{\"id\":\"fb8d1727-b786-45ce-c531-9c54b5609220\",\"type\":\"Plot\",\"subtype\":\"Figure\"},\"id\":\"851d1b8b-11ef-4d4f-cd56-15c4c5291a50\",\"tags\":[],\"doc\":null}},{\"id\":\"edb83bf6-05e3-44b6-c4a2-4de8e78dc2eb\",\"type\":\"PreviewSaveTool\",\"attributes\":{\"plot\":{\"id\":\"fb8d1727-b786-45ce-c531-9c54b5609220\",\"type\":\"Plot\",\"subtype\":\"Figure\"},\"id\":\"edb83bf6-05e3-44b6-c4a2-4de8e78dc2eb\",\"tags\":[],\"doc\":null}},{\"id\":\"9ad64c8d-0dc1-490d-c9da-0dd82bac1e91\",\"type\":\"ResizeTool\",\"attributes\":{\"plot\":{\"id\":\"fb8d1727-b786-45ce-c531-9c54b5609220\",\"type\":\"Plot\",\"subtype\":\"Figure\"},\"id\":\"9ad64c8d-0dc1-490d-c9da-0dd82bac1e91\",\"tags\":[],\"doc\":null}},{\"id\":\"88fe02b4-c305-4443-c4bc-51a48e8ab53c\",\"type\":\"ResetTool\",\"attributes\":{\"plot\":{\"id\":\"fb8d1727-b786-45ce-c531-9c54b5609220\",\"type\":\"Plot\",\"subtype\":\"Figure\"},\"id\":\"88fe02b4-c305-4443-c4bc-51a48e8ab53c\",\"tags\":[],\"doc\":null}},{\"id\":\"fb8d1727-b786-45ce-c531-9c54b5609220\",\"type\":\"Plot\",\"attributes\":{\"x_range\":{\"type\":\"DataRange1d\",\"id\":\"f58a716c-0919-4ed1-ce81-4532f5591c71\"},\"tool_events\":{\"type\":\"ToolEvents\",\"id\":\"3f6751a2-733b-4934-c931-1d1d86374e94\"},\"below\":[{\"type\":\"LinearAxis\",\"id\":\"6b9474d1-8d60-4850-c806-e7a23f5fff7f\"}],\"renderers\":[{\"type\":\"GlyphRenderer\",\"id\":\"b8bff12f-b404-43d6-c3ca-4404aedee39e\"},{\"type\":\"GlyphRenderer\",\"id\":\"dfc5d210-21c2-4941-c9e8-e315d3e43f11\"},{\"type\":\"GlyphRenderer\",\"id\":\"2ce6d563-645b-437e-c3e5-955c0880629e\"},{\"type\":\"GlyphRenderer\",\"id\":\"bc15cc70-ce9e-41f7-c15e-cf43818825f6\"},{\"type\":\"LinearAxis\",\"id\":\"6b9474d1-8d60-4850-c806-e7a23f5fff7f\"},{\"type\":\"Grid\",\"id\":\"a49f8f88-172c-43fc-c36e-1e4be944b303\"},{\"type\":\"LinearAxis\",\"id\":\"f7004df0-ddf7-4d03-cdb8-4fa1de6e3bcf\"},{\"type\":\"Grid\",\"id\":\"fc73a7e6-7404-4f02-cf0e-21bbb4c021ef\"}],\"above\":[],\"tools\":[{\"type\":\"PanTool\",\"id\":\"3341b4ae-cbb7-4b06-cb09-af6b68284b67\"},{\"type\":\"WheelZoomTool\",\"id\":\"4790005a-184c-44cd-c430-d44d8e4487c9\"},{\"type\":\"BoxZoomTool\",\"id\":\"851d1b8b-11ef-4d4f-cd56-15c4c5291a50\"},{\"type\":\"PreviewSaveTool\",\"id\":\"edb83bf6-05e3-44b6-c4a2-4de8e78dc2eb\"},{\"type\":\"ResizeTool\",\"id\":\"9ad64c8d-0dc1-490d-c9da-0dd82bac1e91\"},{\"type\":\"ResetTool\",\"id\":\"88fe02b4-c305-4443-c4bc-51a48e8ab53c\"}],\"doc\":null,\"right\":[],\"title\":\" 0 - 0% - 0 minutes\",\"extra_x_ranges\":{},\"left\":[{\"type\":\"LinearAxis\",\"id\":\"f7004df0-ddf7-4d03-cdb8-4fa1de6e3bcf\"}],\"y_range\":{\"type\":\"DataRange1d\",\"id\":\"7d0e3034-00f9-433f-c303-8ee9f15f43eb\"},\"id\":\"fb8d1727-b786-45ce-c531-9c54b5609220\",\"extra_y_ranges\":{},\"tags\":[]}}];\n",
        "      Bokeh.load_models(all_models);\n",
        "      var model = Bokeh.Collections(modeltype).get(modelid);\n",
        "      $(\"#3de3aa81-2bc2-4514-c55b-552a597be5ee\").html(''); // clear any previous plot in window_id\n",
        "      var view = new model.default_view({model: model, el: \"#3de3aa81-2bc2-4514-c55b-552a597be5ee\"});\n",
        "  });\n",
        "    }\n",
        "});\n",
        "</script>\n",
        "<div class=\"plotdiv\" id=\"3de3aa81-2bc2-4514-c55b-552a597be5ee\"></div>\n"
       ],
       "metadata": {},
       "output_type": "display_data"
      },
      {
       "ename": "./cifar10_utils.lua:122: attempt to call method 'name' (a nil value)\nstack traceback:\n\t./cifar10_utils.lua:122: in function 'train_epoch'\n\t[string \"local timer = torch.Timer()...\"]:14: in main chunk\n\t[C]: in function 'xpcall'\n\t/home/cgel/torch/install/share/lua/5.1/itorch/main.lua:179: in function </home/cgel/torch/install/share/lua/5.1/itorch/main.lua:143>\n\t/home/cgel/torch/install/share/lua/5.1/lzmq/poller.lua:75: in function 'poll'\n\t/home/cgel/torch/install/share/lua/5.1/lzmq/impl/loop.lua:307: in function 'poll'\n\t/home/cgel/torch/install/share/lua/5.1/lzmq/impl/loop.lua:325: in function 'sleep_ex'\n\t/home/cgel/torch/install/share/lua/5.1/lzmq/impl/loop.lua:370: in function 'start'\n\t/home/cgel/torch/install/share/lua/5.1/itorch/main.lua:350: in main chunk\n\t[C]: in function 'require'\n\t[string \"arg={'/home/cgel/.ipython/profile_torch/secur...\"]:1: in main chunk",
       "evalue": "",
       "output_type": "pyerr",
       "traceback": [
        "./cifar10_utils.lua:122: attempt to call method 'name' (a nil value)\nstack traceback:\n\t./cifar10_utils.lua:122: in function 'train_epoch'\n\t[string \"local timer = torch.Timer()...\"]:14: in main chunk\n\t[C]: in function 'xpcall'\n\t/home/cgel/torch/install/share/lua/5.1/itorch/main.lua:179: in function </home/cgel/torch/install/share/lua/5.1/itorch/main.lua:143>\n\t/home/cgel/torch/install/share/lua/5.1/lzmq/poller.lua:75: in function 'poll'\n\t/home/cgel/torch/install/share/lua/5.1/lzmq/impl/loop.lua:307: in function 'poll'\n\t/home/cgel/torch/install/share/lua/5.1/lzmq/impl/loop.lua:325: in function 'sleep_ex'\n\t/home/cgel/torch/install/share/lua/5.1/lzmq/impl/loop.lua:370: in function 'start'\n\t/home/cgel/torch/install/share/lua/5.1/itorch/main.lua:350: in main chunk\n\t[C]: in function 'require'\n\t[string \"arg={'/home/cgel/.ipython/profile_torch/secur...\"]:1: in main chunk"
       ]
      }
     ],
     "prompt_number": 7
    },
    {
     "cell_type": "code",
     "collapsed": false,
     "input": [
      "utils.net:forward(trainset.data[1]:cuda())\n",
      "itorch.image(trainset.data[1])\n",
      "itorch.image(utils.net:get(17).output[1])"
     ],
     "language": "python",
     "metadata": {},
     "outputs": [
      {
       "metadata": {
        "png": {
         "height": 32,
         "width": 32
        }
       },
       "output_type": "display_data",
       "png": "[encoded data removed]",
       "text": [
        "Console does not support images"
       ]
      },
      {
       "metadata": {
        "png": {
         "height": 28,
         "width": 84
        }
       },
       "output_type": "display_data",
       "png": "[encoded data removed]",
       "text": [
        "Console does not support images"
       ]
      }
     ],
     "prompt_number": 68
    },
    {
     "cell_type": "code",
     "collapsed": false,
     "input": [
      "utils.visualize_example = function (self, set, i)\n",
      "  print(classes[set.label[i]])\n",
      "  itorch.image(image.scale(set.data[i],90,90))\n",
      "  local predicted = utils.net:forward(set.data[i]:cuda())\n",
      "  predicted:exp()\n",
      "  local confidences, indices = torch.sort(predicted, true)\n",
      "  confidences = confidences[1]\n",
      "  for j = 1, predicted[1]:size(1) do\n",
      "    print(classes[indices[1][j]]..string.format(\"    %.3f%%\", confidences[j]*100))\n",
      "  end\n",
      "end"
     ],
     "language": "python",
     "metadata": {},
     "outputs": [],
     "prompt_number": 113
    },
    {
     "cell_type": "code",
     "collapsed": false,
     "input": [
      "utils:visualize(2)"
     ],
     "language": "python",
     "metadata": {},
     "outputs": [
      {
       "metadata": {},
       "output_type": "pyout",
       "prompt_number": 114,
       "text": [
        "=======\t\n",
        "horse\t\n"
       ]
      },
      {
       "metadata": {
        "png": {
         "height": 90,
         "width": 90
        }
       },
       "output_type": "display_data",
       "png": "[encoded data removed]",
       "text": [
        "Console does not support images"
       ]
      },
      {
       "metadata": {},
       "output_type": "pyout",
       "prompt_number": 114,
       "text": [
        "horse    77,311%\t\n",
        "deer    22,395%\t\n",
        "dog    0,173%\t\n",
        "bird    0,074%\t\n",
        "frog    0,016%\t\n",
        "cat    0,009%\t\n",
        "truck    0,006%\t\n",
        "ship    0,006%\t\n",
        "airplane    0,006%\t\n"
       ]
      },
      {
       "metadata": {},
       "output_type": "pyout",
       "prompt_number": 114,
       "text": [
        "automobile    0,006%\t\n",
        "=======\t\n",
        "horse\t\n"
       ]
      },
      {
       "metadata": {
        "png": {
         "height": 90,
         "width": 90
        }
       },
       "output_type": "display_data",
       "png": "[encoded data removed]",
       "text": [
        "Console does not support images"
       ]
      },
      {
       "metadata": {},
       "output_type": "pyout",
       "prompt_number": 114,
       "text": [
        "horse    100,000%\t\n",
        "deer    0,000%\t\n",
        "dog    0,000%\t\n",
        "bird    0,000%\t\n",
        "cat    0,000%\t\n",
        "airplane    0,000%\t\n",
        "truck    0,000%\t\n",
        "ship    0,000%\t\n",
        "frog    0,000%\t\n",
        "automobile    0,000%\t\n",
        "\n"
       ]
      }
     ],
     "prompt_number": 114
    },
    {
     "cell_type": "code",
     "collapsed": false,
     "input": [
      "itorch.image(utils.net:get(2).weight)"
     ],
     "language": "python",
     "metadata": {},
     "outputs": [
      {
       "metadata": {
        "png": {
         "height": 80,
         "width": 30
        }
       },
       "output_type": "display_data",
       "png": "[encoded data removed]",
       "text": [
        "Console does not support images"
       ]
      },
      {
       "metadata": {},
       "output_type": "pyout",
       "prompt_number": 14,
       "text": [
        "\n"
       ]
      }
     ],
     "prompt_number": 14
    },
    {
     "cell_type": "code",
     "collapsed": false,
     "input": [
      "itorch.image(utils.net:get(4).weight[1])"
     ],
     "language": "python",
     "metadata": {},
     "outputs": [
      {
       "metadata": {
        "png": {
         "height": 80,
         "width": 30
        }
       },
       "output_type": "display_data",
       "png": "[encoded data removed]",
       "text": [
        "Console does not support images"
       ]
      },
      {
       "metadata": {},
       "output_type": "pyout",
       "prompt_number": 15,
       "text": [
        "\n"
       ]
      }
     ],
     "prompt_number": 15
    },
    {
     "cell_type": "code",
     "collapsed": false,
     "input": [],
     "language": "python",
     "metadata": {},
     "outputs": []
    },
    {
     "cell_type": "code",
     "collapsed": false,
     "input": [
      "torch.save(\"trained_models/\"..model_name .. \"bkup\", utils.net)"
     ],
     "language": "python",
     "metadata": {},
     "outputs": [
      {
       "metadata": {},
       "output_type": "pyout",
       "prompt_number": 13,
       "text": [
        "\n"
       ]
      }
     ],
     "prompt_number": 13
    },
    {
     "cell_type": "code",
     "collapsed": false,
     "input": [],
     "language": "python",
     "metadata": {},
     "outputs": []
    }
   ],
   "metadata": {}
  }
 ]
}